{
  "nbformat": 4,
  "nbformat_minor": 0,
  "metadata": {
    "colab": {
      "provenance": []
    },
    "kernelspec": {
      "name": "python3",
      "display_name": "Python 3"
    },
    "language_info": {
      "name": "python"
    }
  },
  "cells": [
    {
      "cell_type": "markdown",
      "source": [
        "#  Artificial Neural Networks with Keras\n"
      ],
      "metadata": {
        "id": "eTfV1QtCUs5a"
      }
    },
    {
      "cell_type": "markdown",
      "source": [
        "Perceptron classifier to properly interpret the binary labels and output the predictions for the new samples"
      ],
      "metadata": {
        "id": "4dGwYmC4VWZg"
      }
    },
    {
      "cell_type": "code",
      "execution_count": 1,
      "metadata": {
        "colab": {
          "base_uri": "https://localhost:8080/"
        },
        "id": "cekwMypNUh_j",
        "outputId": "4abaedab-1a7c-4ffa-d46a-fb4e1399a1e2"
      },
      "outputs": [
        {
          "output_type": "stream",
          "name": "stdout",
          "text": [
            "Predictions: [1 0]\n"
          ]
        }
      ],
      "source": [
        "import numpy as np\n",
        "from sklearn.datasets import load_iris\n",
        "from sklearn.linear_model import Perceptron\n",
        "\n",
        "# Load the Iris dataset\n",
        "iris = load_iris(as_frame=True)\n",
        "\n",
        "# Use petal length and petal width as features\n",
        "X = iris.data[[\"petal length (cm)\", \"petal width (cm)\"]].values\n",
        "\n",
        "# Create a binary target variable: True for Iris setosa, False otherwise\n",
        "y = (iris.target == 0).astype(int)  # Ensures y is binary (0 or 1)\n",
        "\n",
        "# Initialize and fit the Perceptron model\n",
        "per_clf = Perceptron(random_state=42)\n",
        "per_clf.fit(X, y)\n",
        "\n",
        "# New sample data to predict\n",
        "X_new = [[2, 0.5], [3, 1]]\n",
        "y_pred = per_clf.predict(X_new)\n",
        "\n",
        "print(\"Predictions:\", y_pred)  # Should output 1 and 0 (True and False) for these samples\n"
      ]
    },
    {
      "cell_type": "markdown",
      "source": [
        "## Explanation and Adjustments\n",
        "### Activation Function:\n",
        " For a regression problem like predicting housing prices, the MLPRegressor by default does not apply any activation function to the output layer, which allows it to predict any real value. This is correct for this case.\n",
        "\n",
        "### Improvement in Code Structure:\n",
        "It's good practice to separate training, validation, and testing data clearly. Your code already does this properly, but I will make sure everything is explained and organized correctly.\n",
        "\n",
        "### Optional - Tuning the Model:\n",
        "The model may benefit from tuning the number of layers, hidden units, or learning rate, though you're using a reasonable setup here"
      ],
      "metadata": {
        "id": "OfGDod50Vwk1"
      }
    },
    {
      "cell_type": "code",
      "source": [
        "from sklearn.datasets import fetch_california_housing\n",
        "from sklearn.metrics import mean_squared_error\n",
        "from sklearn.model_selection import train_test_split\n",
        "from sklearn.neural_network import MLPRegressor\n",
        "from sklearn.pipeline import make_pipeline\n",
        "from sklearn.preprocessing import StandardScaler\n",
        "\n",
        "# Fetch the California housing dataset\n",
        "housing = fetch_california_housing()\n",
        "\n",
        "# Split the data into training, validation, and test sets\n",
        "X_train_full, X_test, y_train_full, y_test = train_test_split(\n",
        "    housing.data, housing.target, random_state=42)\n",
        "\n",
        "X_train, X_valid, y_train, y_valid = train_test_split(\n",
        "    X_train_full, y_train_full, random_state=42)\n",
        "\n",
        "# Initialize the MLP Regressor with 3 hidden layers of 50 units each\n",
        "mlp_reg = MLPRegressor(hidden_layer_sizes=[50, 50, 50], random_state=42)\n",
        "\n",
        "# Create a pipeline with StandardScaler for preprocessing and MLPRegressor\n",
        "pipeline = make_pipeline(StandardScaler(), mlp_reg)\n",
        "\n",
        "# Train the model using the training data\n",
        "pipeline.fit(X_train, y_train)\n",
        "\n",
        "# Make predictions on the validation data\n",
        "y_pred = pipeline.predict(X_valid)\n",
        "\n",
        "# Calculate RMSE (Root Mean Squared Error) to evaluate performance\n",
        "rmse = mean_squared_error(y_valid, y_pred, squared=False)\n",
        "\n",
        "# Output the RMSE result\n",
        "print(f\"Validation RMSE: {rmse:.3f}\")  # e.g., about 0.505\n",
        "\n",
        "# Optional: Evaluate the model on the test set\n",
        "y_test_pred = pipeline.predict(X_test)\n",
        "test_rmse = mean_squared_error(y_test, y_test_pred, squared=False)\n",
        "print(f\"Test RMSE: {test_rmse:.3f}\")\n"
      ],
      "metadata": {
        "colab": {
          "base_uri": "https://localhost:8080/"
        },
        "id": "C79sEY4dVZgv",
        "outputId": "4b32befd-364c-4030-cb89-f168a2853b62"
      },
      "execution_count": 2,
      "outputs": [
        {
          "output_type": "stream",
          "name": "stdout",
          "text": [
            "Validation RMSE: 0.505\n",
            "Test RMSE: 0.521\n"
          ]
        },
        {
          "output_type": "stream",
          "name": "stderr",
          "text": [
            "/usr/local/lib/python3.10/dist-packages/sklearn/metrics/_regression.py:492: FutureWarning: 'squared' is deprecated in version 1.4 and will be removed in 1.6. To calculate the root mean squared error, use the function'root_mean_squared_error'.\n",
            "  warnings.warn(\n",
            "/usr/local/lib/python3.10/dist-packages/sklearn/metrics/_regression.py:492: FutureWarning: 'squared' is deprecated in version 1.4 and will be removed in 1.6. To calculate the root mean squared error, use the function'root_mean_squared_error'.\n",
            "  warnings.warn(\n"
          ]
        }
      ]
    },
    {
      "cell_type": "markdown",
      "source": [
        "loading and training a neural network on the Fashion MNIST dataset using Keras, TensorFlow, and Python."
      ],
      "metadata": {
        "id": "-lQKQL6IW9yG"
      }
    },
    {
      "cell_type": "code",
      "source": [
        "import tensorflow as tf\n",
        "\n",
        "# Load Fashion MNIST dataset\n",
        "fashion_mnist = tf.keras.datasets.fashion_mnist.load_data()\n",
        "(X_train_full, y_train_full), (X_test, y_test) = fashion_mnist\n",
        "\n",
        "# Split the data into training, validation, and test sets\n",
        "X_train, y_train = X_train_full[:-5000], y_train_full[:-5000]\n",
        "X_valid, y_valid = X_train_full[-5000:], y_train_full[-5000:]\n",
        "\n",
        "# Normalize the pixel values by scaling them to [0, 1] range\n",
        "X_train, X_valid, X_test = X_train / 255.0, X_valid / 255.0, X_test / 255.0\n",
        "\n",
        "# Define the class names for Fashion MNIST\n",
        "class_names = [\"T-shirt/top\", \"Trouser\", \"Pullover\", \"Dress\", \"Coat\",\n",
        "               \"Sandal\", \"Shirt\", \"Sneaker\", \"Bag\", \"Ankle boot\"]\n"
      ],
      "metadata": {
        "colab": {
          "base_uri": "https://localhost:8080/"
        },
        "id": "BgPyiVthXGTH",
        "outputId": "b0eab3f9-0e55-4e88-f0af-77f9fa067cad"
      },
      "execution_count": 3,
      "outputs": [
        {
          "output_type": "stream",
          "name": "stdout",
          "text": [
            "Downloading data from https://storage.googleapis.com/tensorflow/tf-keras-datasets/train-labels-idx1-ubyte.gz\n",
            "\u001b[1m29515/29515\u001b[0m \u001b[32m━━━━━━━━━━━━━━━━━━━━\u001b[0m\u001b[37m\u001b[0m \u001b[1m0s\u001b[0m 0us/step\n",
            "Downloading data from https://storage.googleapis.com/tensorflow/tf-keras-datasets/train-images-idx3-ubyte.gz\n",
            "\u001b[1m26421880/26421880\u001b[0m \u001b[32m━━━━━━━━━━━━━━━━━━━━\u001b[0m\u001b[37m\u001b[0m \u001b[1m0s\u001b[0m 0us/step\n",
            "Downloading data from https://storage.googleapis.com/tensorflow/tf-keras-datasets/t10k-labels-idx1-ubyte.gz\n",
            "\u001b[1m5148/5148\u001b[0m \u001b[32m━━━━━━━━━━━━━━━━━━━━\u001b[0m\u001b[37m\u001b[0m \u001b[1m0s\u001b[0m 1us/step\n",
            "Downloading data from https://storage.googleapis.com/tensorflow/tf-keras-datasets/t10k-images-idx3-ubyte.gz\n",
            "\u001b[1m4422102/4422102\u001b[0m \u001b[32m━━━━━━━━━━━━━━━━━━━━\u001b[0m\u001b[37m\u001b[0m \u001b[1m0s\u001b[0m 0us/step\n"
          ]
        }
      ]
    },
    {
      "cell_type": "code",
      "source": [
        "# Create the Sequential model\n",
        "model = tf.keras.Sequential([\n",
        "    tf.keras.layers.Flatten(input_shape=[28, 28]),  # Flatten the input image\n",
        "    tf.keras.layers.Dense(300, activation=\"relu\"),  # First hidden layer with ReLU activation\n",
        "    tf.keras.layers.Dense(100, activation=\"relu\"),  # Second hidden layer with ReLU activation\n",
        "    tf.keras.layers.Dense(10, activation=\"softmax\")  # Output layer with softmax activation for multi-class classification\n",
        "])\n"
      ],
      "metadata": {
        "colab": {
          "base_uri": "https://localhost:8080/"
        },
        "id": "VcTcED7BXO74",
        "outputId": "9320f8be-8e82-40f0-9891-a46e186bb073"
      },
      "execution_count": 4,
      "outputs": [
        {
          "output_type": "stream",
          "name": "stderr",
          "text": [
            "/usr/local/lib/python3.10/dist-packages/keras/src/layers/reshaping/flatten.py:37: UserWarning: Do not pass an `input_shape`/`input_dim` argument to a layer. When using Sequential models, prefer using an `Input(shape)` object as the first layer in the model instead.\n",
            "  super().__init__(**kwargs)\n"
          ]
        }
      ]
    },
    {
      "cell_type": "code",
      "source": [
        "# Compile the model with sparse categorical crossentropy loss function, SGD optimizer, and accuracy as a metric\n",
        "model.compile(loss=\"sparse_categorical_crossentropy\",\n",
        "              optimizer=\"sgd\",\n",
        "              metrics=[\"accuracy\"])\n"
      ],
      "metadata": {
        "id": "pOOyXjNSXRAH"
      },
      "execution_count": 5,
      "outputs": []
    },
    {
      "cell_type": "code",
      "source": [
        "# Train the model for 30 epochs with the training and validation data\n",
        "history = model.fit(X_train, y_train, epochs=30, validation_data=(X_valid, y_valid))\n"
      ],
      "metadata": {
        "colab": {
          "base_uri": "https://localhost:8080/"
        },
        "id": "h5oml6NEXU-s",
        "outputId": "4cb1048c-3317-48db-fb35-0aa5bd385cc8"
      },
      "execution_count": 6,
      "outputs": [
        {
          "output_type": "stream",
          "name": "stdout",
          "text": [
            "Epoch 1/30\n",
            "\u001b[1m1719/1719\u001b[0m \u001b[32m━━━━━━━━━━━━━━━━━━━━\u001b[0m\u001b[37m\u001b[0m \u001b[1m7s\u001b[0m 4ms/step - accuracy: 0.6894 - loss: 0.9690 - val_accuracy: 0.8136 - val_loss: 0.5160\n",
            "Epoch 2/30\n",
            "\u001b[1m1719/1719\u001b[0m \u001b[32m━━━━━━━━━━━━━━━━━━━━\u001b[0m\u001b[37m\u001b[0m \u001b[1m11s\u001b[0m 4ms/step - accuracy: 0.8256 - loss: 0.5014 - val_accuracy: 0.8412 - val_loss: 0.4383\n",
            "Epoch 3/30\n",
            "\u001b[1m1719/1719\u001b[0m \u001b[32m━━━━━━━━━━━━━━━━━━━━\u001b[0m\u001b[37m\u001b[0m \u001b[1m8s\u001b[0m 5ms/step - accuracy: 0.8451 - loss: 0.4404 - val_accuracy: 0.8488 - val_loss: 0.4158\n",
            "Epoch 4/30\n",
            "\u001b[1m1719/1719\u001b[0m \u001b[32m━━━━━━━━━━━━━━━━━━━━\u001b[0m\u001b[37m\u001b[0m \u001b[1m8s\u001b[0m 5ms/step - accuracy: 0.8572 - loss: 0.4100 - val_accuracy: 0.8518 - val_loss: 0.4083\n",
            "Epoch 5/30\n",
            "\u001b[1m1719/1719\u001b[0m \u001b[32m━━━━━━━━━━━━━━━━━━━━\u001b[0m\u001b[37m\u001b[0m \u001b[1m8s\u001b[0m 5ms/step - accuracy: 0.8622 - loss: 0.3965 - val_accuracy: 0.8576 - val_loss: 0.3879\n",
            "Epoch 6/30\n",
            "\u001b[1m1719/1719\u001b[0m \u001b[32m━━━━━━━━━━━━━━━━━━━━\u001b[0m\u001b[37m\u001b[0m \u001b[1m8s\u001b[0m 3ms/step - accuracy: 0.8666 - loss: 0.3773 - val_accuracy: 0.8646 - val_loss: 0.3718\n",
            "Epoch 7/30\n",
            "\u001b[1m1719/1719\u001b[0m \u001b[32m━━━━━━━━━━━━━━━━━━━━\u001b[0m\u001b[37m\u001b[0m \u001b[1m8s\u001b[0m 5ms/step - accuracy: 0.8707 - loss: 0.3635 - val_accuracy: 0.8674 - val_loss: 0.3672\n",
            "Epoch 8/30\n",
            "\u001b[1m1719/1719\u001b[0m \u001b[32m━━━━━━━━━━━━━━━━━━━━\u001b[0m\u001b[37m\u001b[0m \u001b[1m6s\u001b[0m 3ms/step - accuracy: 0.8764 - loss: 0.3517 - val_accuracy: 0.8694 - val_loss: 0.3680\n",
            "Epoch 9/30\n",
            "\u001b[1m1719/1719\u001b[0m \u001b[32m━━━━━━━━━━━━━━━━━━━━\u001b[0m\u001b[37m\u001b[0m \u001b[1m11s\u001b[0m 4ms/step - accuracy: 0.8774 - loss: 0.3450 - val_accuracy: 0.8732 - val_loss: 0.3572\n",
            "Epoch 10/30\n",
            "\u001b[1m1719/1719\u001b[0m \u001b[32m━━━━━━━━━━━━━━━━━━━━\u001b[0m\u001b[37m\u001b[0m \u001b[1m8s\u001b[0m 4ms/step - accuracy: 0.8812 - loss: 0.3301 - val_accuracy: 0.8726 - val_loss: 0.3551\n",
            "Epoch 11/30\n",
            "\u001b[1m1719/1719\u001b[0m \u001b[32m━━━━━━━━━━━━━━━━━━━━\u001b[0m\u001b[37m\u001b[0m \u001b[1m6s\u001b[0m 3ms/step - accuracy: 0.8837 - loss: 0.3235 - val_accuracy: 0.8770 - val_loss: 0.3467\n",
            "Epoch 12/30\n",
            "\u001b[1m1719/1719\u001b[0m \u001b[32m━━━━━━━━━━━━━━━━━━━━\u001b[0m\u001b[37m\u001b[0m \u001b[1m8s\u001b[0m 4ms/step - accuracy: 0.8882 - loss: 0.3136 - val_accuracy: 0.8760 - val_loss: 0.3406\n",
            "Epoch 13/30\n",
            "\u001b[1m1719/1719\u001b[0m \u001b[32m━━━━━━━━━━━━━━━━━━━━\u001b[0m\u001b[37m\u001b[0m \u001b[1m6s\u001b[0m 4ms/step - accuracy: 0.8922 - loss: 0.3051 - val_accuracy: 0.8684 - val_loss: 0.3558\n",
            "Epoch 14/30\n",
            "\u001b[1m1719/1719\u001b[0m \u001b[32m━━━━━━━━━━━━━━━━━━━━\u001b[0m\u001b[37m\u001b[0m \u001b[1m8s\u001b[0m 5ms/step - accuracy: 0.8912 - loss: 0.3006 - val_accuracy: 0.8762 - val_loss: 0.3392\n",
            "Epoch 15/30\n",
            "\u001b[1m1719/1719\u001b[0m \u001b[32m━━━━━━━━━━━━━━━━━━━━\u001b[0m\u001b[37m\u001b[0m \u001b[1m6s\u001b[0m 4ms/step - accuracy: 0.8952 - loss: 0.2931 - val_accuracy: 0.8798 - val_loss: 0.3359\n",
            "Epoch 16/30\n",
            "\u001b[1m1719/1719\u001b[0m \u001b[32m━━━━━━━━━━━━━━━━━━━━\u001b[0m\u001b[37m\u001b[0m \u001b[1m10s\u001b[0m 6ms/step - accuracy: 0.8978 - loss: 0.2896 - val_accuracy: 0.8776 - val_loss: 0.3377\n",
            "Epoch 17/30\n",
            "\u001b[1m1719/1719\u001b[0m \u001b[32m━━━━━━━━━━━━━━━━━━━━\u001b[0m\u001b[37m\u001b[0m \u001b[1m9s\u001b[0m 5ms/step - accuracy: 0.8967 - loss: 0.2825 - val_accuracy: 0.8694 - val_loss: 0.3571\n",
            "Epoch 18/30\n",
            "\u001b[1m1719/1719\u001b[0m \u001b[32m━━━━━━━━━━━━━━━━━━━━\u001b[0m\u001b[37m\u001b[0m \u001b[1m8s\u001b[0m 4ms/step - accuracy: 0.9024 - loss: 0.2718 - val_accuracy: 0.8830 - val_loss: 0.3211\n",
            "Epoch 19/30\n",
            "\u001b[1m1719/1719\u001b[0m \u001b[32m━━━━━━━━━━━━━━━━━━━━\u001b[0m\u001b[37m\u001b[0m \u001b[1m8s\u001b[0m 4ms/step - accuracy: 0.9035 - loss: 0.2704 - val_accuracy: 0.8632 - val_loss: 0.3733\n",
            "Epoch 20/30\n",
            "\u001b[1m1719/1719\u001b[0m \u001b[32m━━━━━━━━━━━━━━━━━━━━\u001b[0m\u001b[37m\u001b[0m \u001b[1m8s\u001b[0m 3ms/step - accuracy: 0.9039 - loss: 0.2663 - val_accuracy: 0.8830 - val_loss: 0.3263\n",
            "Epoch 21/30\n",
            "\u001b[1m1719/1719\u001b[0m \u001b[32m━━━━━━━━━━━━━━━━━━━━\u001b[0m\u001b[37m\u001b[0m \u001b[1m10s\u001b[0m 3ms/step - accuracy: 0.9074 - loss: 0.2589 - val_accuracy: 0.8814 - val_loss: 0.3216\n",
            "Epoch 22/30\n",
            "\u001b[1m1719/1719\u001b[0m \u001b[32m━━━━━━━━━━━━━━━━━━━━\u001b[0m\u001b[37m\u001b[0m \u001b[1m11s\u001b[0m 4ms/step - accuracy: 0.9092 - loss: 0.2532 - val_accuracy: 0.8810 - val_loss: 0.3296\n",
            "Epoch 23/30\n",
            "\u001b[1m1719/1719\u001b[0m \u001b[32m━━━━━━━━━━━━━━━━━━━━\u001b[0m\u001b[37m\u001b[0m \u001b[1m11s\u001b[0m 4ms/step - accuracy: 0.9107 - loss: 0.2495 - val_accuracy: 0.8862 - val_loss: 0.3141\n",
            "Epoch 24/30\n",
            "\u001b[1m1719/1719\u001b[0m \u001b[32m━━━━━━━━━━━━━━━━━━━━\u001b[0m\u001b[37m\u001b[0m \u001b[1m9s\u001b[0m 3ms/step - accuracy: 0.9127 - loss: 0.2436 - val_accuracy: 0.8824 - val_loss: 0.3232\n",
            "Epoch 25/30\n",
            "\u001b[1m1719/1719\u001b[0m \u001b[32m━━━━━━━━━━━━━━━━━━━━\u001b[0m\u001b[37m\u001b[0m \u001b[1m7s\u001b[0m 4ms/step - accuracy: 0.9143 - loss: 0.2375 - val_accuracy: 0.8842 - val_loss: 0.3173\n",
            "Epoch 26/30\n",
            "\u001b[1m1719/1719\u001b[0m \u001b[32m━━━━━━━━━━━━━━━━━━━━\u001b[0m\u001b[37m\u001b[0m \u001b[1m6s\u001b[0m 3ms/step - accuracy: 0.9145 - loss: 0.2380 - val_accuracy: 0.8806 - val_loss: 0.3262\n",
            "Epoch 27/30\n",
            "\u001b[1m1719/1719\u001b[0m \u001b[32m━━━━━━━━━━━━━━━━━━━━\u001b[0m\u001b[37m\u001b[0m \u001b[1m10s\u001b[0m 3ms/step - accuracy: 0.9168 - loss: 0.2327 - val_accuracy: 0.8816 - val_loss: 0.3178\n",
            "Epoch 28/30\n",
            "\u001b[1m1719/1719\u001b[0m \u001b[32m━━━━━━━━━━━━━━━━━━━━\u001b[0m\u001b[37m\u001b[0m \u001b[1m10s\u001b[0m 3ms/step - accuracy: 0.9178 - loss: 0.2310 - val_accuracy: 0.8892 - val_loss: 0.3080\n",
            "Epoch 29/30\n",
            "\u001b[1m1719/1719\u001b[0m \u001b[32m━━━━━━━━━━━━━━━━━━━━\u001b[0m\u001b[37m\u001b[0m \u001b[1m8s\u001b[0m 5ms/step - accuracy: 0.9179 - loss: 0.2285 - val_accuracy: 0.8814 - val_loss: 0.3248\n",
            "Epoch 30/30\n",
            "\u001b[1m1719/1719\u001b[0m \u001b[32m━━━━━━━━━━━━━━━━━━━━\u001b[0m\u001b[37m\u001b[0m \u001b[1m6s\u001b[0m 3ms/step - accuracy: 0.9191 - loss: 0.2280 - val_accuracy: 0.8832 - val_loss: 0.3183\n"
          ]
        }
      ]
    },
    {
      "cell_type": "code",
      "source": [
        "import matplotlib.pyplot as plt\n",
        "import pandas as pd\n",
        "\n",
        "# Plot the learning curves (loss and accuracy) over the epochs\n",
        "pd.DataFrame(history.history).plot(figsize=(8, 5), xlim=[0, 29], ylim=[0, 1], grid=True, xlabel=\"Epoch\", style=[\"r--\", \"r--.\", \"b-\", \"b-*\"])\n",
        "plt.show()\n"
      ],
      "metadata": {
        "colab": {
          "base_uri": "https://localhost:8080/",
          "height": 470
        },
        "id": "tkVB0HBaXZeg",
        "outputId": "a296dfea-4448-430f-8064-865c5c732bcd"
      },
      "execution_count": 7,
      "outputs": [
        {
          "output_type": "display_data",
          "data": {
            "text/plain": [
              "<Figure size 800x500 with 1 Axes>"
            ],
            "image/png": "[encoded data removed]"
          },
          "metadata": {}
        }
      ]
    },
    {
      "cell_type": "code",
      "source": [
        "# Use the trained model to make predictions on a few test instances\n",
        "X_new = X_test[:3]\n",
        "y_proba = model.predict(X_new)\n",
        "\n",
        "# Display the predicted probabilities\n",
        "print(y_proba.round(2))\n",
        "\n",
        "# Get the class predictions based on the highest probability\n",
        "y_pred = y_proba.argmax(axis=-1)\n",
        "\n",
        "# Map the predicted class indices to class names\n",
        "print(np.array(class_names)[y_pred])\n"
      ],
      "metadata": {
        "colab": {
          "base_uri": "https://localhost:8080/"
        },
        "id": "TxBoOSF8XgHl",
        "outputId": "1d7afcae-908d-4f56-aedc-25036691e32e"
      },
      "execution_count": 8,
      "outputs": [
        {
          "output_type": "stream",
          "name": "stdout",
          "text": [
            "\u001b[1m1/1\u001b[0m \u001b[32m━━━━━━━━━━━━━━━━━━━━\u001b[0m\u001b[37m\u001b[0m \u001b[1m0s\u001b[0m 62ms/step\n",
            "[[0.   0.   0.   0.   0.   0.03 0.   0.02 0.   0.95]\n",
            " [0.   0.   0.99 0.   0.01 0.   0.   0.   0.   0.  ]\n",
            " [0.   1.   0.   0.   0.   0.   0.   0.   0.   0.  ]]\n",
            "['Ankle boot' 'Pullover' 'Trouser']\n"
          ]
        }
      ]
    },
    {
      "cell_type": "markdown",
      "source": [
        "The model uses softmax on the output layer to handle multi-class classification.\n",
        "\n",
        "ReLU activation functions are used in the hidden layers, helping the model learn non-linear decision boundaries.\n",
        "\n",
        "The model is trained for 30 epochs, and the performance is evaluated using both loss and accuracy metrics.\n",
        "\n",
        "The predictions are made by calculating the probability distribution for each test image, and the argmax function is used to select the class with the highest probability.\n",
        "\n",
        "This approach works well for simple image classification tasks like Fashion MNIST, and you can tweak the architecture, optimizer, and training strategy for different results or more complex datasets"
      ],
      "metadata": {
        "id": "dWpZiIt3X124"
      }
    },
    {
      "cell_type": "markdown",
      "source": [
        "This section describes how to build and train a deep neural network model in TensorFlow using the Keras API, focusing on some advanced techniques like normalization, multi-input models, auxiliary outputs, and saving/loading models. Below is a breakdown of the key concepts:\n",
        "\n",
        "1. Model Construction:\n",
        "Normalization Layer: A Normalization layer is used as the first layer in the model. It works similarly to StandardScaler in Scikit-Learn and must be fitted to the training data using the adapt() method before training the model.\n",
        "Sequential Model: A simple feedforward model is created with three hidden layers, each with 50 neurons and ReLU activation. The final output layer predicts a single continuous value.\n",
        "Optimizer: Adam optimizer with a learning rate of\n",
        "1\n",
        "×\n",
        "1\n",
        "0\n",
        "−\n",
        "3\n",
        "1×10\n",
        "−3\n",
        "  is used for optimization.\n",
        "2. Multiple Inputs (Wide and Deep Model):\n",
        "Wide and Deep Model: A common architecture that splits features into two parts:\n",
        "Wide Path: Uses shallow layers for quick feature extraction.\n",
        "Deep Path: Uses deeper layers to model complex relationships between features.\n",
        "Inputs: The model receives two sets of features: one for the \"wide\" path (first 5 features) and one for the \"deep\" path (features from index 2 to 7).\n",
        "3. Auxiliary Outputs:\n",
        "Additional Output: The model is extended with an auxiliary output to help regularize the model. This output is used as an additional task, usually for improving the main task’s performance.\n",
        "Loss Weights: When compiling the model, you can assign different weights to each output’s loss to prioritize the main task over the auxiliary task.\n",
        "4. Saving and Restoring Models:\n",
        "Saving a Model: A trained model can be saved in TensorFlow's format using model.save().\n",
        "Loading a Model: You can reload the saved model later using tf.keras.models.load_model() to make predictions or evaluate it again.\n",
        "5. Using Callbacks:\n",
        "ModelCheckpoint: Saves the model weights at regular intervals during training.\n",
        "EarlyStopping: Stops training early if the validation loss doesn’t improve, preventing overfitting.\n",
        "Custom Callback: Custom callbacks can be created to monitor specific metrics (e.g., printing the ratio of validation loss to training loss at the end of each epoch).\n",
        "TensorBoard: A callback that logs metrics for visualization using TensorBoard. It tracks various outputs such as scalars, histograms, images, and audio.\n",
        "6. TensorBoard for Visualization:\n",
        "Logging: You can use TensorBoard to visualize metrics, including loss curves and histograms, to analyze training performance.\n",
        "Profiling: TensorBoard can also be used to profile the model’s performance during training by monitoring specific operations.\n",
        "This section is particularly useful when you want to build a flexible and scalable model, such as those involving multiple feature sets, auxiliary tasks, and extensive training monitoring. You also learn how to save and resume model training, which is essential for real-world machine learning applications"
      ],
      "metadata": {
        "id": "DGxJ6cpjZpv8"
      }
    },
    {
      "cell_type": "code",
      "source": [
        "import tensorflow as tf\n",
        "from sklearn.model_selection import train_test_split\n",
        "from sklearn.datasets import fetch_california_housing\n",
        "from sklearn.preprocessing import StandardScaler\n",
        "\n",
        "# Load dataset\n",
        "data = fetch_california_housing()\n",
        "X = data.data\n",
        "y = data.target\n",
        "\n",
        "# Split the dataset into training, validation, and test sets\n",
        "X_train, X_test, y_train, y_test = train_test_split(X, y, test_size=0.2, random_state=42)\n",
        "X_train, X_valid, y_train, y_valid = train_test_split(X_train, y_train, test_size=0.2, random_state=42)\n",
        "\n",
        "# Normalize the data\n",
        "norm_layer = tf.keras.layers.Normalization(input_shape=X_train.shape[1:])\n",
        "norm_layer.adapt(X_train)\n",
        "\n",
        "# Build the model\n",
        "model = tf.keras.Sequential([\n",
        "    norm_layer,\n",
        "    tf.keras.layers.Dense(50, activation=\"relu\"),\n",
        "    tf.keras.layers.Dense(50, activation=\"relu\"),\n",
        "    tf.keras.layers.Dense(50, activation=\"relu\"),\n",
        "    tf.keras.layers.Dense(1)\n",
        "])\n",
        "\n",
        "# Compile the model\n",
        "optimizer = tf.keras.optimizers.Adam(learning_rate=1e-3)\n",
        "model.compile(loss=\"mse\", optimizer=optimizer, metrics=[\"RootMeanSquaredError\"])\n",
        "\n",
        "# Train the model\n",
        "history = model.fit(X_train, y_train, epochs=20, validation_data=(X_valid, y_valid))\n",
        "\n",
        "# Evaluate the model on the test set\n",
        "mse_test, rmse_test = model.evaluate(X_test, y_test)\n",
        "print(f\"Test MSE: {mse_test}\")\n",
        "print(f\"Test RMSE: {rmse_test}\")\n",
        "\n",
        "# Make predictions on new data\n",
        "X_new = X_test[:3]\n",
        "y_pred = model.predict(X_new)\n",
        "print(f\"Predictions: {y_pred}\")\n",
        "\n",
        "# Save the model (using the .keras extension for TensorFlow's SavedModel format)\n",
        "model.save(\"my_keras_model.keras\")\n",
        "\n",
        "# Load the model\n",
        "loaded_model = tf.keras.models.load_model(\"my_keras_model.keras\")\n",
        "\n",
        "# Make predictions with the loaded model\n",
        "y_pred = loaded_model.predict(X_new)\n",
        "print(f\"Predictions from loaded model: {y_pred}\")\n",
        "\n",
        "\n"
      ],
      "metadata": {
        "colab": {
          "base_uri": "https://localhost:8080/"
        },
        "id": "Ct3mEwzPXhAs",
        "outputId": "9beb578c-e9a2-4d9d-e31c-43209c924273"
      },
      "execution_count": 26,
      "outputs": [
        {
          "output_type": "stream",
          "name": "stdout",
          "text": [
            "Epoch 1/20\n"
          ]
        },
        {
          "output_type": "stream",
          "name": "stderr",
          "text": [
            "/usr/local/lib/python3.10/dist-packages/keras/src/layers/preprocessing/tf_data_layer.py:19: UserWarning: Do not pass an `input_shape`/`input_dim` argument to a layer. When using Sequential models, prefer using an `Input(shape)` object as the first layer in the model instead.\n",
            "  super().__init__(**kwargs)\n"
          ]
        },
        {
          "output_type": "stream",
          "name": "stdout",
          "text": [
            "\u001b[1m413/413\u001b[0m \u001b[32m━━━━━━━━━━━━━━━━━━━━\u001b[0m\u001b[37m\u001b[0m \u001b[1m5s\u001b[0m 5ms/step - RootMeanSquaredError: 1.1796 - loss: 1.4656 - val_RootMeanSquaredError: 0.6886 - val_loss: 0.4742\n",
            "Epoch 2/20\n",
            "\u001b[1m413/413\u001b[0m \u001b[32m━━━━━━━━━━━━━━━━━━━━\u001b[0m\u001b[37m\u001b[0m \u001b[1m2s\u001b[0m 5ms/step - RootMeanSquaredError: 0.6276 - loss: 0.3943 - val_RootMeanSquaredError: 0.6356 - val_loss: 0.4040\n",
            "Epoch 3/20\n",
            "\u001b[1m413/413\u001b[0m \u001b[32m━━━━━━━━━━━━━━━━━━━━\u001b[0m\u001b[37m\u001b[0m \u001b[1m4s\u001b[0m 8ms/step - RootMeanSquaredError: 0.6011 - loss: 0.3626 - val_RootMeanSquaredError: 0.6175 - val_loss: 0.3813\n",
            "Epoch 4/20\n",
            "\u001b[1m413/413\u001b[0m \u001b[32m━━━━━━━━━━━━━━━━━━━━\u001b[0m\u001b[37m\u001b[0m \u001b[1m3s\u001b[0m 2ms/step - RootMeanSquaredError: 0.5867 - loss: 0.3444 - val_RootMeanSquaredError: 0.6272 - val_loss: 0.3933\n",
            "Epoch 5/20\n",
            "\u001b[1m413/413\u001b[0m \u001b[32m━━━━━━━━━━━━━━━━━━━━\u001b[0m\u001b[37m\u001b[0m \u001b[1m1s\u001b[0m 2ms/step - RootMeanSquaredError: 0.5672 - loss: 0.3219 - val_RootMeanSquaredError: 0.6074 - val_loss: 0.3689\n",
            "Epoch 6/20\n",
            "\u001b[1m413/413\u001b[0m \u001b[32m━━━━━━━━━━━━━━━━━━━━\u001b[0m\u001b[37m\u001b[0m \u001b[1m1s\u001b[0m 2ms/step - RootMeanSquaredError: 0.5682 - loss: 0.3230 - val_RootMeanSquaredError: 0.6213 - val_loss: 0.3860\n",
            "Epoch 7/20\n",
            "\u001b[1m413/413\u001b[0m \u001b[32m━━━━━━━━━━━━━━━━━━━━\u001b[0m\u001b[37m\u001b[0m \u001b[1m1s\u001b[0m 2ms/step - RootMeanSquaredError: 0.5603 - loss: 0.3141 - val_RootMeanSquaredError: 0.5827 - val_loss: 0.3395\n",
            "Epoch 8/20\n",
            "\u001b[1m413/413\u001b[0m \u001b[32m━━━━━━━━━━━━━━━━━━━━\u001b[0m\u001b[37m\u001b[0m \u001b[1m1s\u001b[0m 2ms/step - RootMeanSquaredError: 0.5577 - loss: 0.3111 - val_RootMeanSquaredError: 0.6374 - val_loss: 0.4062\n",
            "Epoch 9/20\n",
            "\u001b[1m413/413\u001b[0m \u001b[32m━━━━━━━━━━━━━━━━━━━━\u001b[0m\u001b[37m\u001b[0m \u001b[1m2s\u001b[0m 3ms/step - RootMeanSquaredError: 0.5508 - loss: 0.3037 - val_RootMeanSquaredError: 0.5830 - val_loss: 0.3399\n",
            "Epoch 10/20\n",
            "\u001b[1m413/413\u001b[0m \u001b[32m━━━━━━━━━━━━━━━━━━━━\u001b[0m\u001b[37m\u001b[0m \u001b[1m5s\u001b[0m 9ms/step - RootMeanSquaredError: 0.5454 - loss: 0.2976 - val_RootMeanSquaredError: 0.5749 - val_loss: 0.3305\n",
            "Epoch 11/20\n",
            "\u001b[1m413/413\u001b[0m \u001b[32m━━━━━━━━━━━━━━━━━━━━\u001b[0m\u001b[37m\u001b[0m \u001b[1m2s\u001b[0m 4ms/step - RootMeanSquaredError: 0.5484 - loss: 0.3008 - val_RootMeanSquaredError: 0.5655 - val_loss: 0.3198\n",
            "Epoch 12/20\n",
            "\u001b[1m413/413\u001b[0m \u001b[32m━━━━━━━━━━━━━━━━━━━━\u001b[0m\u001b[37m\u001b[0m \u001b[1m1s\u001b[0m 3ms/step - RootMeanSquaredError: 0.5327 - loss: 0.2839 - val_RootMeanSquaredError: 0.5714 - val_loss: 0.3264\n",
            "Epoch 13/20\n",
            "\u001b[1m413/413\u001b[0m \u001b[32m━━━━━━━━━━━━━━━━━━━━\u001b[0m\u001b[37m\u001b[0m \u001b[1m2s\u001b[0m 4ms/step - RootMeanSquaredError: 0.5257 - loss: 0.2765 - val_RootMeanSquaredError: 0.5500 - val_loss: 0.3025\n",
            "Epoch 14/20\n",
            "\u001b[1m413/413\u001b[0m \u001b[32m━━━━━━━━━━━━━━━━━━━━\u001b[0m\u001b[37m\u001b[0m \u001b[1m2s\u001b[0m 2ms/step - RootMeanSquaredError: 0.5235 - loss: 0.2743 - val_RootMeanSquaredError: 0.6760 - val_loss: 0.4569\n",
            "Epoch 15/20\n",
            "\u001b[1m413/413\u001b[0m \u001b[32m━━━━━━━━━━━━━━━━━━━━\u001b[0m\u001b[37m\u001b[0m \u001b[1m1s\u001b[0m 2ms/step - RootMeanSquaredError: 0.5267 - loss: 0.2775 - val_RootMeanSquaredError: 0.5537 - val_loss: 0.3066\n",
            "Epoch 16/20\n",
            "\u001b[1m413/413\u001b[0m \u001b[32m━━━━━━━━━━━━━━━━━━━━\u001b[0m\u001b[37m\u001b[0m \u001b[1m1s\u001b[0m 2ms/step - RootMeanSquaredError: 0.5160 - loss: 0.2664 - val_RootMeanSquaredError: 0.5746 - val_loss: 0.3302\n",
            "Epoch 17/20\n",
            "\u001b[1m413/413\u001b[0m \u001b[32m━━━━━━━━━━━━━━━━━━━━\u001b[0m\u001b[37m\u001b[0m \u001b[1m1s\u001b[0m 2ms/step - RootMeanSquaredError: 0.5231 - loss: 0.2736 - val_RootMeanSquaredError: 0.5692 - val_loss: 0.3240\n",
            "Epoch 18/20\n",
            "\u001b[1m413/413\u001b[0m \u001b[32m━━━━━━━━━━━━━━━━━━━━\u001b[0m\u001b[37m\u001b[0m \u001b[1m2s\u001b[0m 3ms/step - RootMeanSquaredError: 0.5203 - loss: 0.2708 - val_RootMeanSquaredError: 0.5591 - val_loss: 0.3126\n",
            "Epoch 19/20\n",
            "\u001b[1m413/413\u001b[0m \u001b[32m━━━━━━━━━━━━━━━━━━━━\u001b[0m\u001b[37m\u001b[0m \u001b[1m2s\u001b[0m 4ms/step - RootMeanSquaredError: 0.5088 - loss: 0.2590 - val_RootMeanSquaredError: 0.5594 - val_loss: 0.3130\n",
            "Epoch 20/20\n",
            "\u001b[1m413/413\u001b[0m \u001b[32m━━━━━━━━━━━━━━━━━━━━\u001b[0m\u001b[37m\u001b[0m \u001b[1m1s\u001b[0m 3ms/step - RootMeanSquaredError: 0.5182 - loss: 0.2686 - val_RootMeanSquaredError: 0.5813 - val_loss: 0.3379\n",
            "\u001b[1m129/129\u001b[0m \u001b[32m━━━━━━━━━━━━━━━━━━━━\u001b[0m\u001b[37m\u001b[0m \u001b[1m0s\u001b[0m 1ms/step - RootMeanSquaredError: 0.5406 - loss: 0.2924\n",
            "Test MSE: 0.2953549027442932\n",
            "Test RMSE: 0.5434656143188477\n",
            "\u001b[1m1/1\u001b[0m \u001b[32m━━━━━━━━━━━━━━━━━━━━\u001b[0m\u001b[37m\u001b[0m \u001b[1m0s\u001b[0m 71ms/step\n",
            "Predictions: [[0.41618955]\n",
            " [1.287262  ]\n",
            " [4.76322   ]]\n",
            "\u001b[1m1/1\u001b[0m \u001b[32m━━━━━━━━━━━━━━━━━━━━\u001b[0m\u001b[37m\u001b[0m \u001b[1m0s\u001b[0m 68ms/step\n",
            "Predictions from loaded model: [[0.41618955]\n",
            " [1.287262  ]\n",
            " [4.76322   ]]\n"
          ]
        }
      ]
    },
    {
      "cell_type": "code",
      "source": [
        "# Define callbacks for checkpoints and early stopping\n",
        "checkpoint_cb = tf.keras.callbacks.ModelCheckpoint(\"my_checkpoints.weights.h5\", save_weights_only=True)\n",
        "early_stopping_cb = tf.keras.callbacks.EarlyStopping(patience=10, restore_best_weights=True)\n",
        "\n",
        "# Fit the model with callbacks\n",
        "history = model.fit(X_train, y_train, epochs=20, validation_data=(X_valid, y_valid),\n",
        "                    callbacks=[checkpoint_cb, early_stopping_cb])\n",
        "\n",
        "# Custom callback to display validation/train loss ratio\n",
        "class PrintValTrainRatioCallback(tf.keras.callbacks.Callback):\n",
        "    def on_epoch_end(self, epoch, logs):\n",
        "        ratio = logs[\"val_loss\"] / logs[\"loss\"]\n",
        "        print(f\"Epoch={epoch}, val/train={ratio:.2f}\")\n",
        "\n",
        "# Fit with custom callback\n",
        "history = model.fit(X_train, y_train, epochs=20, validation_data=(X_valid, y_valid),\n",
        "                    callbacks=[checkpoint_cb, early_stopping_cb, PrintValTrainRatioCallback()])\n",
        "\n",
        "# Setup TensorBoard callback\n",
        "from pathlib import Path\n",
        "from time import strftime\n",
        "\n",
        "def get_run_logdir(root_logdir=\"my_logs\"):\n",
        "    return Path(root_logdir) / strftime(\"run_%Y_%m_%d_%H_%M_%S\")\n",
        "\n",
        "run_logdir = get_run_logdir()\n",
        "tensorboard_cb = tf.keras.callbacks.TensorBoard(run_logdir, profile_batch=(100, 200))\n",
        "\n",
        "# Fit with TensorBoard callback\n",
        "history = model.fit(X_train, y_train, epochs=20, validation_data=(X_valid, y_valid),\n",
        "                    callbacks=[tensorboard_cb])\n",
        "\n",
        "# Example of logging custom scalar, histogram, image, text, and audio\n",
        "import numpy as np\n",
        "test_logdir = get_run_logdir()\n",
        "writer = tf.summary.create_file_writer(str(test_logdir))\n",
        "\n",
        "with writer.as_default():\n",
        "    for step in range(1, 1001):\n",
        "        tf.summary.scalar(\"my_scalar\", np.sin(step / 10), step=step)\n",
        "        data = (np.random.randn(100) + 2) * step / 100\n",
        "        tf.summary.histogram(\"my_hist\", data, buckets=50, step=step)\n",
        "        images = np.random.rand(2, 32, 32, 3) * step / 1000\n",
        "        tf.summary.image(\"my_images\", images, step=step)\n",
        "        texts = [f\"The step is {step}\", f\"Its square is {step ** 2}\"]\n",
        "        tf.summary.text(\"my_text\", texts, step=step)\n",
        "        sine_wave = tf.math.sin(tf.range(12000) / 48000 * 2 * np.pi * step)\n",
        "        audio = tf.reshape(tf.cast(sine_wave, tf.float32), [1, -1, 1])\n",
        "        tf.summary.audio(\"my_audio\", audio, sample_rate=48000, step=step)\n"
      ],
      "metadata": {
        "colab": {
          "base_uri": "https://localhost:8080/"
        },
        "id": "m3ccc42Ua6mI",
        "outputId": "78801dfe-6f8b-45d1-c53d-010869887fca"
      },
      "execution_count": 13,
      "outputs": [
        {
          "output_type": "stream",
          "name": "stdout",
          "text": [
            "Epoch 1/20\n",
            "\u001b[1m413/413\u001b[0m \u001b[32m━━━━━━━━━━━━━━━━━━━━\u001b[0m\u001b[37m\u001b[0m \u001b[1m1s\u001b[0m 3ms/step - RootMeanSquaredError: 0.4957 - loss: 0.2459 - val_RootMeanSquaredError: 0.5406 - val_loss: 0.2922\n",
            "Epoch 2/20\n",
            "\u001b[1m413/413\u001b[0m \u001b[32m━━━━━━━━━━━━━━━━━━━━\u001b[0m\u001b[37m\u001b[0m \u001b[1m2s\u001b[0m 2ms/step - RootMeanSquaredError: 0.4941 - loss: 0.2444 - val_RootMeanSquaredError: 0.5560 - val_loss: 0.3091\n",
            "Epoch 3/20\n",
            "\u001b[1m413/413\u001b[0m \u001b[32m━━━━━━━━━━━━━━━━━━━━\u001b[0m\u001b[37m\u001b[0m \u001b[1m2s\u001b[0m 3ms/step - RootMeanSquaredError: 0.4968 - loss: 0.2469 - val_RootMeanSquaredError: 0.5493 - val_loss: 0.3018\n",
            "Epoch 4/20\n",
            "\u001b[1m413/413\u001b[0m \u001b[32m━━━━━━━━━━━━━━━━━━━━\u001b[0m\u001b[37m\u001b[0m \u001b[1m2s\u001b[0m 4ms/step - RootMeanSquaredError: 0.4973 - loss: 0.2475 - val_RootMeanSquaredError: 0.5399 - val_loss: 0.2915\n",
            "Epoch 5/20\n",
            "\u001b[1m413/413\u001b[0m \u001b[32m━━━━━━━━━━━━━━━━━━━━\u001b[0m\u001b[37m\u001b[0m \u001b[1m2s\u001b[0m 2ms/step - RootMeanSquaredError: 0.4952 - loss: 0.2454 - val_RootMeanSquaredError: 0.5459 - val_loss: 0.2980\n",
            "Epoch 6/20\n",
            "\u001b[1m413/413\u001b[0m \u001b[32m━━━━━━━━━━━━━━━━━━━━\u001b[0m\u001b[37m\u001b[0m \u001b[1m1s\u001b[0m 2ms/step - RootMeanSquaredError: 0.4942 - loss: 0.2444 - val_RootMeanSquaredError: 0.5483 - val_loss: 0.3007\n",
            "Epoch 7/20\n",
            "\u001b[1m413/413\u001b[0m \u001b[32m━━━━━━━━━━━━━━━━━━━━\u001b[0m\u001b[37m\u001b[0m \u001b[1m1s\u001b[0m 2ms/step - RootMeanSquaredError: 0.4965 - loss: 0.2466 - val_RootMeanSquaredError: 0.5517 - val_loss: 0.3044\n",
            "Epoch 8/20\n",
            "\u001b[1m413/413\u001b[0m \u001b[32m━━━━━━━━━━━━━━━━━━━━\u001b[0m\u001b[37m\u001b[0m \u001b[1m1s\u001b[0m 2ms/step - RootMeanSquaredError: 0.4904 - loss: 0.2407 - val_RootMeanSquaredError: 0.5484 - val_loss: 0.3007\n",
            "Epoch 9/20\n",
            "\u001b[1m413/413\u001b[0m \u001b[32m━━━━━━━━━━━━━━━━━━━━\u001b[0m\u001b[37m\u001b[0m \u001b[1m1s\u001b[0m 2ms/step - RootMeanSquaredError: 0.4960 - loss: 0.2461 - val_RootMeanSquaredError: 0.5331 - val_loss: 0.2842\n",
            "Epoch 10/20\n",
            "\u001b[1m413/413\u001b[0m \u001b[32m━━━━━━━━━━━━━━━━━━━━\u001b[0m\u001b[37m\u001b[0m \u001b[1m1s\u001b[0m 2ms/step - RootMeanSquaredError: 0.4939 - loss: 0.2440 - val_RootMeanSquaredError: 0.5331 - val_loss: 0.2842\n",
            "Epoch 11/20\n",
            "\u001b[1m413/413\u001b[0m \u001b[32m━━━━━━━━━━━━━━━━━━━━\u001b[0m\u001b[37m\u001b[0m \u001b[1m1s\u001b[0m 2ms/step - RootMeanSquaredError: 0.4989 - loss: 0.2490 - val_RootMeanSquaredError: 0.5396 - val_loss: 0.2912\n",
            "Epoch 12/20\n",
            "\u001b[1m413/413\u001b[0m \u001b[32m━━━━━━━━━━━━━━━━━━━━\u001b[0m\u001b[37m\u001b[0m \u001b[1m3s\u001b[0m 6ms/step - RootMeanSquaredError: 0.4897 - loss: 0.2399 - val_RootMeanSquaredError: 0.5425 - val_loss: 0.2944\n",
            "Epoch 13/20\n",
            "\u001b[1m413/413\u001b[0m \u001b[32m━━━━━━━━━━━━━━━━━━━━\u001b[0m\u001b[37m\u001b[0m \u001b[1m2s\u001b[0m 5ms/step - RootMeanSquaredError: 0.4893 - loss: 0.2395 - val_RootMeanSquaredError: 0.5444 - val_loss: 0.2963\n",
            "Epoch 14/20\n",
            "\u001b[1m413/413\u001b[0m \u001b[32m━━━━━━━━━━━━━━━━━━━━\u001b[0m\u001b[37m\u001b[0m \u001b[1m1s\u001b[0m 2ms/step - RootMeanSquaredError: 0.4836 - loss: 0.2340 - val_RootMeanSquaredError: 0.5318 - val_loss: 0.2828\n",
            "Epoch 15/20\n",
            "\u001b[1m413/413\u001b[0m \u001b[32m━━━━━━━━━━━━━━━━━━━━\u001b[0m\u001b[37m\u001b[0m \u001b[1m1s\u001b[0m 2ms/step - RootMeanSquaredError: 0.4801 - loss: 0.2307 - val_RootMeanSquaredError: 0.5353 - val_loss: 0.2866\n",
            "Epoch 16/20\n",
            "\u001b[1m413/413\u001b[0m \u001b[32m━━━━━━━━━━━━━━━━━━━━\u001b[0m\u001b[37m\u001b[0m \u001b[1m1s\u001b[0m 2ms/step - RootMeanSquaredError: 0.4956 - loss: 0.2458 - val_RootMeanSquaredError: 0.5424 - val_loss: 0.2942\n",
            "Epoch 17/20\n",
            "\u001b[1m413/413\u001b[0m \u001b[32m━━━━━━━━━━━━━━━━━━━━\u001b[0m\u001b[37m\u001b[0m \u001b[1m1s\u001b[0m 2ms/step - RootMeanSquaredError: 0.4732 - loss: 0.2240 - val_RootMeanSquaredError: 0.5372 - val_loss: 0.2885\n",
            "Epoch 18/20\n",
            "\u001b[1m413/413\u001b[0m \u001b[32m━━━━━━━━━━━━━━━━━━━━\u001b[0m\u001b[37m\u001b[0m \u001b[1m1s\u001b[0m 2ms/step - RootMeanSquaredError: 0.4716 - loss: 0.2225 - val_RootMeanSquaredError: 0.5584 - val_loss: 0.3118\n",
            "Epoch 19/20\n",
            "\u001b[1m413/413\u001b[0m \u001b[32m━━━━━━━━━━━━━━━━━━━━\u001b[0m\u001b[37m\u001b[0m \u001b[1m1s\u001b[0m 2ms/step - RootMeanSquaredError: 0.4869 - loss: 0.2371 - val_RootMeanSquaredError: 0.5439 - val_loss: 0.2958\n",
            "Epoch 20/20\n",
            "\u001b[1m413/413\u001b[0m \u001b[32m━━━━━━━━━━━━━━━━━━━━\u001b[0m\u001b[37m\u001b[0m \u001b[1m1s\u001b[0m 3ms/step - RootMeanSquaredError: 0.4826 - loss: 0.2329 - val_RootMeanSquaredError: 0.5572 - val_loss: 0.3105\n",
            "Epoch 1/20\n",
            "\u001b[1m409/413\u001b[0m \u001b[32m━━━━━━━━━━━━━━━━━━━\u001b[0m\u001b[37m━\u001b[0m \u001b[1m0s\u001b[0m 2ms/step - RootMeanSquaredError: 0.4946 - loss: 0.2449Epoch=0, val/train=1.25\n",
            "\u001b[1m413/413\u001b[0m \u001b[32m━━━━━━━━━━━━━━━━━━━━\u001b[0m\u001b[37m\u001b[0m \u001b[1m1s\u001b[0m 2ms/step - RootMeanSquaredError: 0.4945 - loss: 0.2448 - val_RootMeanSquaredError: 0.5448 - val_loss: 0.2969\n",
            "Epoch 2/20\n",
            "\u001b[1m407/413\u001b[0m \u001b[32m━━━━━━━━━━━━━━━━━━━\u001b[0m\u001b[37m━\u001b[0m \u001b[1m0s\u001b[0m 2ms/step - RootMeanSquaredError: 0.4896 - loss: 0.2397Epoch=1, val/train=1.21\n",
            "\u001b[1m413/413\u001b[0m \u001b[32m━━━━━━━━━━━━━━━━━━━━\u001b[0m\u001b[37m\u001b[0m \u001b[1m2s\u001b[0m 3ms/step - RootMeanSquaredError: 0.4895 - loss: 0.2396 - val_RootMeanSquaredError: 0.5320 - val_loss: 0.2830\n",
            "Epoch 3/20\n",
            "\u001b[1m407/413\u001b[0m \u001b[32m━━━━━━━━━━━━━━━━━━━\u001b[0m\u001b[37m━\u001b[0m \u001b[1m0s\u001b[0m 3ms/step - RootMeanSquaredError: 0.4756 - loss: 0.2263Epoch=2, val/train=1.25\n",
            "\u001b[1m413/413\u001b[0m \u001b[32m━━━━━━━━━━━━━━━━━━━━\u001b[0m\u001b[37m\u001b[0m \u001b[1m3s\u001b[0m 4ms/step - RootMeanSquaredError: 0.4758 - loss: 0.2265 - val_RootMeanSquaredError: 0.5432 - val_loss: 0.2951\n",
            "Epoch 4/20\n",
            "\u001b[1m401/413\u001b[0m \u001b[32m━━━━━━━━━━━━━━━━━━━\u001b[0m\u001b[37m━\u001b[0m \u001b[1m0s\u001b[0m 3ms/step - RootMeanSquaredError: 0.4833 - loss: 0.2338Epoch=3, val/train=1.25\n",
            "\u001b[1m413/413\u001b[0m \u001b[32m━━━━━━━━━━━━━━━━━━━━\u001b[0m\u001b[37m\u001b[0m \u001b[1m2s\u001b[0m 3ms/step - RootMeanSquaredError: 0.4833 - loss: 0.2338 - val_RootMeanSquaredError: 0.5398 - val_loss: 0.2914\n",
            "Epoch 5/20\n",
            "\u001b[1m410/413\u001b[0m \u001b[32m━━━━━━━━━━━━━━━━━━━\u001b[0m\u001b[37m━\u001b[0m \u001b[1m0s\u001b[0m 2ms/step - RootMeanSquaredError: 0.4782 - loss: 0.2288Epoch=4, val/train=1.23\n",
            "\u001b[1m413/413\u001b[0m \u001b[32m━━━━━━━━━━━━━━━━━━━━\u001b[0m\u001b[37m\u001b[0m \u001b[1m1s\u001b[0m 2ms/step - RootMeanSquaredError: 0.4783 - loss: 0.2288 - val_RootMeanSquaredError: 0.5326 - val_loss: 0.2836\n",
            "Epoch 6/20\n",
            "\u001b[1m412/413\u001b[0m \u001b[32m━━━━━━━━━━━━━━━━━━━\u001b[0m\u001b[37m━\u001b[0m \u001b[1m0s\u001b[0m 2ms/step - RootMeanSquaredError: 0.4798 - loss: 0.2303Epoch=5, val/train=1.22\n",
            "\u001b[1m413/413\u001b[0m \u001b[32m━━━━━━━━━━━━━━━━━━━━\u001b[0m\u001b[37m\u001b[0m \u001b[1m1s\u001b[0m 2ms/step - RootMeanSquaredError: 0.4798 - loss: 0.2304 - val_RootMeanSquaredError: 0.5313 - val_loss: 0.2823\n",
            "Epoch 7/20\n",
            "\u001b[1m410/413\u001b[0m \u001b[32m━━━━━━━━━━━━━━━━━━━\u001b[0m\u001b[37m━\u001b[0m \u001b[1m0s\u001b[0m 2ms/step - RootMeanSquaredError: 0.4827 - loss: 0.2332Epoch=6, val/train=1.23\n",
            "\u001b[1m413/413\u001b[0m \u001b[32m━━━━━━━━━━━━━━━━━━━━\u001b[0m\u001b[37m\u001b[0m \u001b[1m1s\u001b[0m 2ms/step - RootMeanSquaredError: 0.4827 - loss: 0.2331 - val_RootMeanSquaredError: 0.5307 - val_loss: 0.2817\n",
            "Epoch 8/20\n",
            "\u001b[1m392/413\u001b[0m \u001b[32m━━━━━━━━━━━━━━━━━━\u001b[0m\u001b[37m━━\u001b[0m \u001b[1m0s\u001b[0m 2ms/step - RootMeanSquaredError: 0.4746 - loss: 0.2253Epoch=7, val/train=1.39\n",
            "\u001b[1m413/413\u001b[0m \u001b[32m━━━━━━━━━━━━━━━━━━━━\u001b[0m\u001b[37m\u001b[0m \u001b[1m1s\u001b[0m 2ms/step - RootMeanSquaredError: 0.4746 - loss: 0.2253 - val_RootMeanSquaredError: 0.5624 - val_loss: 0.3163\n",
            "Epoch 9/20\n",
            "\u001b[1m399/413\u001b[0m \u001b[32m━━━━━━━━━━━━━━━━━━━\u001b[0m\u001b[37m━\u001b[0m \u001b[1m0s\u001b[0m 2ms/step - RootMeanSquaredError: 0.4783 - loss: 0.2289Epoch=8, val/train=1.30\n",
            "\u001b[1m413/413\u001b[0m \u001b[32m━━━━━━━━━━━━━━━━━━━━\u001b[0m\u001b[37m\u001b[0m \u001b[1m1s\u001b[0m 2ms/step - RootMeanSquaredError: 0.4784 - loss: 0.2289 - val_RootMeanSquaredError: 0.5466 - val_loss: 0.2987\n",
            "Epoch 10/20\n",
            "\u001b[1m402/413\u001b[0m \u001b[32m━━━━━━━━━━━━━━━━━━━\u001b[0m\u001b[37m━\u001b[0m \u001b[1m0s\u001b[0m 2ms/step - RootMeanSquaredError: 0.4674 - loss: 0.2185Epoch=9, val/train=1.26\n",
            "\u001b[1m413/413\u001b[0m \u001b[32m━━━━━━━━━━━━━━━━━━━━\u001b[0m\u001b[37m\u001b[0m \u001b[1m1s\u001b[0m 3ms/step - RootMeanSquaredError: 0.4676 - loss: 0.2188 - val_RootMeanSquaredError: 0.5346 - val_loss: 0.2858\n",
            "Epoch 11/20\n",
            "\u001b[1m411/413\u001b[0m \u001b[32m━━━━━━━━━━━━━━━━━━━\u001b[0m\u001b[37m━\u001b[0m \u001b[1m0s\u001b[0m 3ms/step - RootMeanSquaredError: 0.4734 - loss: 0.2241Epoch=10, val/train=1.24\n",
            "\u001b[1m413/413\u001b[0m \u001b[32m━━━━━━━━━━━━━━━━━━━━\u001b[0m\u001b[37m\u001b[0m \u001b[1m2s\u001b[0m 4ms/step - RootMeanSquaredError: 0.4734 - loss: 0.2242 - val_RootMeanSquaredError: 0.5318 - val_loss: 0.2828\n",
            "Epoch 12/20\n",
            "\u001b[1m389/413\u001b[0m \u001b[32m━━━━━━━━━━━━━━━━━━\u001b[0m\u001b[37m━━\u001b[0m \u001b[1m0s\u001b[0m 2ms/step - RootMeanSquaredError: 0.4676 - loss: 0.2187Epoch=11, val/train=2.18\n",
            "\u001b[1m413/413\u001b[0m \u001b[32m━━━━━━━━━━━━━━━━━━━━\u001b[0m\u001b[37m\u001b[0m \u001b[1m2s\u001b[0m 2ms/step - RootMeanSquaredError: 0.4681 - loss: 0.2192 - val_RootMeanSquaredError: 0.7016 - val_loss: 0.4922\n",
            "Epoch 13/20\n",
            "\u001b[1m409/413\u001b[0m \u001b[32m━━━━━━━━━━━━━━━━━━━\u001b[0m\u001b[37m━\u001b[0m \u001b[1m0s\u001b[0m 2ms/step - RootMeanSquaredError: 0.4932 - loss: 0.2436Epoch=12, val/train=1.19\n",
            "\u001b[1m413/413\u001b[0m \u001b[32m━━━━━━━━━━━━━━━━━━━━\u001b[0m\u001b[37m\u001b[0m \u001b[1m1s\u001b[0m 2ms/step - RootMeanSquaredError: 0.4931 - loss: 0.2435 - val_RootMeanSquaredError: 0.5285 - val_loss: 0.2793\n",
            "Epoch 14/20\n",
            "\u001b[1m399/413\u001b[0m \u001b[32m━━━━━━━━━━━━━━━━━━━\u001b[0m\u001b[37m━\u001b[0m \u001b[1m0s\u001b[0m 2ms/step - RootMeanSquaredError: 0.4644 - loss: 0.2157Epoch=13, val/train=1.29\n",
            "\u001b[1m413/413\u001b[0m \u001b[32m━━━━━━━━━━━━━━━━━━━━\u001b[0m\u001b[37m\u001b[0m \u001b[1m1s\u001b[0m 2ms/step - RootMeanSquaredError: 0.4645 - loss: 0.2158 - val_RootMeanSquaredError: 0.5337 - val_loss: 0.2848\n",
            "Epoch 15/20\n",
            "\u001b[1m409/413\u001b[0m \u001b[32m━━━━━━━━━━━━━━━━━━━\u001b[0m\u001b[37m━\u001b[0m \u001b[1m0s\u001b[0m 2ms/step - RootMeanSquaredError: 0.4603 - loss: 0.2121Epoch=14, val/train=1.39\n",
            "\u001b[1m413/413\u001b[0m \u001b[32m━━━━━━━━━━━━━━━━━━━━\u001b[0m\u001b[37m\u001b[0m \u001b[1m1s\u001b[0m 2ms/step - RootMeanSquaredError: 0.4605 - loss: 0.2123 - val_RootMeanSquaredError: 0.5567 - val_loss: 0.3099\n",
            "Epoch 16/20\n",
            "\u001b[1m410/413\u001b[0m \u001b[32m━━━━━━━━━━━━━━━━━━━\u001b[0m\u001b[37m━\u001b[0m \u001b[1m0s\u001b[0m 2ms/step - RootMeanSquaredError: 0.4678 - loss: 0.2189Epoch=15, val/train=1.27\n",
            "\u001b[1m413/413\u001b[0m \u001b[32m━━━━━━━━━━━━━━━━━━━━\u001b[0m\u001b[37m\u001b[0m \u001b[1m1s\u001b[0m 2ms/step - RootMeanSquaredError: 0.4678 - loss: 0.2190 - val_RootMeanSquaredError: 0.5313 - val_loss: 0.2823\n",
            "Epoch 17/20\n",
            "\u001b[1m408/413\u001b[0m \u001b[32m━━━━━━━━━━━━━━━━━━━\u001b[0m\u001b[37m━\u001b[0m \u001b[1m0s\u001b[0m 2ms/step - RootMeanSquaredError: 0.4666 - loss: 0.2178Epoch=16, val/train=1.25\n",
            "\u001b[1m413/413\u001b[0m \u001b[32m━━━━━━━━━━━━━━━━━━━━\u001b[0m\u001b[37m\u001b[0m \u001b[1m1s\u001b[0m 2ms/step - RootMeanSquaredError: 0.4667 - loss: 0.2179 - val_RootMeanSquaredError: 0.5283 - val_loss: 0.2791\n",
            "Epoch 18/20\n",
            "\u001b[1m388/413\u001b[0m \u001b[32m━━━━━━━━━━━━━━━━━━\u001b[0m\u001b[37m━━\u001b[0m \u001b[1m0s\u001b[0m 2ms/step - RootMeanSquaredError: 0.4610 - loss: 0.2127Epoch=17, val/train=1.31\n",
            "\u001b[1m413/413\u001b[0m \u001b[32m━━━━━━━━━━━━━━━━━━━━\u001b[0m\u001b[37m\u001b[0m \u001b[1m1s\u001b[0m 2ms/step - RootMeanSquaredError: 0.4614 - loss: 0.2131 - val_RootMeanSquaredError: 0.5367 - val_loss: 0.2880\n",
            "Epoch 19/20\n",
            "\u001b[1m398/413\u001b[0m \u001b[32m━━━━━━━━━━━━━━━━━━━\u001b[0m\u001b[37m━\u001b[0m \u001b[1m0s\u001b[0m 2ms/step - RootMeanSquaredError: 0.5966 - loss: 0.3623Epoch=18, val/train=5.49\n",
            "\u001b[1m413/413\u001b[0m \u001b[32m━━━━━━━━━━━━━━━━━━━━\u001b[0m\u001b[37m\u001b[0m \u001b[1m1s\u001b[0m 2ms/step - RootMeanSquaredError: 0.5942 - loss: 0.3593 - val_RootMeanSquaredError: 1.2464 - val_loss: 1.5535\n",
            "Epoch 20/20\n",
            "\u001b[1m403/413\u001b[0m \u001b[32m━━━━━━━━━━━━━━━━━━━\u001b[0m\u001b[37m━\u001b[0m \u001b[1m0s\u001b[0m 3ms/step - RootMeanSquaredError: 0.5964 - loss: 0.3640Epoch=19, val/train=1.07\n",
            "\u001b[1m413/413\u001b[0m \u001b[32m━━━━━━━━━━━━━━━━━━━━\u001b[0m\u001b[37m\u001b[0m \u001b[1m1s\u001b[0m 3ms/step - RootMeanSquaredError: 0.5947 - loss: 0.3620 - val_RootMeanSquaredError: 0.5538 - val_loss: 0.3067\n",
            "Epoch 1/20\n",
            "\u001b[1m413/413\u001b[0m \u001b[32m━━━━━━━━━━━━━━━━━━━━\u001b[0m\u001b[37m\u001b[0m \u001b[1m2s\u001b[0m 5ms/step - RootMeanSquaredError: 0.4579 - loss: 0.2098 - val_RootMeanSquaredError: 0.5298 - val_loss: 0.2807\n",
            "Epoch 2/20\n",
            "\u001b[1m413/413\u001b[0m \u001b[32m━━━━━━━━━━━━━━━━━━━━\u001b[0m\u001b[37m\u001b[0m \u001b[1m1s\u001b[0m 3ms/step - RootMeanSquaredError: 0.4711 - loss: 0.2220 - val_RootMeanSquaredError: 0.5465 - val_loss: 0.2987\n",
            "Epoch 3/20\n",
            "\u001b[1m413/413\u001b[0m \u001b[32m━━━━━━━━━━━━━━━━━━━━\u001b[0m\u001b[37m\u001b[0m \u001b[1m1s\u001b[0m 3ms/step - RootMeanSquaredError: 0.4723 - loss: 0.2233 - val_RootMeanSquaredError: 0.5494 - val_loss: 0.3019\n",
            "Epoch 4/20\n",
            "\u001b[1m413/413\u001b[0m \u001b[32m━━━━━━━━━━━━━━━━━━━━\u001b[0m\u001b[37m\u001b[0m \u001b[1m1s\u001b[0m 3ms/step - RootMeanSquaredError: 0.4698 - loss: 0.2208 - val_RootMeanSquaredError: 0.5344 - val_loss: 0.2855\n",
            "Epoch 5/20\n",
            "\u001b[1m413/413\u001b[0m \u001b[32m━━━━━━━━━━━━━━━━━━━━\u001b[0m\u001b[37m\u001b[0m \u001b[1m1s\u001b[0m 3ms/step - RootMeanSquaredError: 0.4567 - loss: 0.2087 - val_RootMeanSquaredError: 0.5329 - val_loss: 0.2839\n",
            "Epoch 6/20\n",
            "\u001b[1m413/413\u001b[0m \u001b[32m━━━━━━━━━━━━━━━━━━━━\u001b[0m\u001b[37m\u001b[0m \u001b[1m1s\u001b[0m 3ms/step - RootMeanSquaredError: 0.4641 - loss: 0.2155 - val_RootMeanSquaredError: 0.5316 - val_loss: 0.2826\n",
            "Epoch 7/20\n",
            "\u001b[1m413/413\u001b[0m \u001b[32m━━━━━━━━━━━━━━━━━━━━\u001b[0m\u001b[37m\u001b[0m \u001b[1m1s\u001b[0m 3ms/step - RootMeanSquaredError: 0.4647 - loss: 0.2160 - val_RootMeanSquaredError: 0.5281 - val_loss: 0.2789\n",
            "Epoch 8/20\n",
            "\u001b[1m413/413\u001b[0m \u001b[32m━━━━━━━━━━━━━━━━━━━━\u001b[0m\u001b[37m\u001b[0m \u001b[1m1s\u001b[0m 3ms/step - RootMeanSquaredError: 0.4517 - loss: 0.2042 - val_RootMeanSquaredError: 0.5310 - val_loss: 0.2819\n",
            "Epoch 9/20\n",
            "\u001b[1m413/413\u001b[0m \u001b[32m━━━━━━━━━━━━━━━━━━━━\u001b[0m\u001b[37m\u001b[0m \u001b[1m2s\u001b[0m 4ms/step - RootMeanSquaredError: 0.4559 - loss: 0.2081 - val_RootMeanSquaredError: 0.5333 - val_loss: 0.2844\n",
            "Epoch 10/20\n",
            "\u001b[1m413/413\u001b[0m \u001b[32m━━━━━━━━━━━━━━━━━━━━\u001b[0m\u001b[37m\u001b[0m \u001b[1m3s\u001b[0m 4ms/step - RootMeanSquaredError: 0.4597 - loss: 0.2113 - val_RootMeanSquaredError: 0.5263 - val_loss: 0.2770\n",
            "Epoch 11/20\n",
            "\u001b[1m413/413\u001b[0m \u001b[32m━━━━━━━━━━━━━━━━━━━━\u001b[0m\u001b[37m\u001b[0m \u001b[1m2s\u001b[0m 3ms/step - RootMeanSquaredError: 0.4672 - loss: 0.2184 - val_RootMeanSquaredError: 0.5327 - val_loss: 0.2838\n",
            "Epoch 12/20\n",
            "\u001b[1m413/413\u001b[0m \u001b[32m━━━━━━━━━━━━━━━━━━━━\u001b[0m\u001b[37m\u001b[0m \u001b[1m1s\u001b[0m 3ms/step - RootMeanSquaredError: 0.4553 - loss: 0.2075 - val_RootMeanSquaredError: 0.5362 - val_loss: 0.2875\n",
            "Epoch 13/20\n",
            "\u001b[1m413/413\u001b[0m \u001b[32m━━━━━━━━━━━━━━━━━━━━\u001b[0m\u001b[37m\u001b[0m \u001b[1m1s\u001b[0m 3ms/step - RootMeanSquaredError: 0.4567 - loss: 0.2086 - val_RootMeanSquaredError: 0.5247 - val_loss: 0.2753\n",
            "Epoch 14/20\n",
            "\u001b[1m413/413\u001b[0m \u001b[32m━━━━━━━━━━━━━━━━━━━━\u001b[0m\u001b[37m\u001b[0m \u001b[1m1s\u001b[0m 3ms/step - RootMeanSquaredError: 0.4514 - loss: 0.2038 - val_RootMeanSquaredError: 0.5623 - val_loss: 0.3162\n",
            "Epoch 15/20\n",
            "\u001b[1m413/413\u001b[0m \u001b[32m━━━━━━━━━━━━━━━━━━━━\u001b[0m\u001b[37m\u001b[0m \u001b[1m1s\u001b[0m 3ms/step - RootMeanSquaredError: 0.4535 - loss: 0.2058 - val_RootMeanSquaredError: 0.5408 - val_loss: 0.2925\n",
            "Epoch 16/20\n",
            "\u001b[1m413/413\u001b[0m \u001b[32m━━━━━━━━━━━━━━━━━━━━\u001b[0m\u001b[37m\u001b[0m \u001b[1m1s\u001b[0m 3ms/step - RootMeanSquaredError: 0.4593 - loss: 0.2112 - val_RootMeanSquaredError: 0.5394 - val_loss: 0.2910\n",
            "Epoch 17/20\n",
            "\u001b[1m413/413\u001b[0m \u001b[32m━━━━━━━━━━━━━━━━━━━━\u001b[0m\u001b[37m\u001b[0m \u001b[1m1s\u001b[0m 3ms/step - RootMeanSquaredError: 0.4490 - loss: 0.2017 - val_RootMeanSquaredError: 0.5832 - val_loss: 0.3401\n",
            "Epoch 18/20\n",
            "\u001b[1m413/413\u001b[0m \u001b[32m━━━━━━━━━━━━━━━━━━━━\u001b[0m\u001b[37m\u001b[0m \u001b[1m3s\u001b[0m 4ms/step - RootMeanSquaredError: 0.4439 - loss: 0.1972 - val_RootMeanSquaredError: 0.5326 - val_loss: 0.2837\n",
            "Epoch 19/20\n",
            "\u001b[1m413/413\u001b[0m \u001b[32m━━━━━━━━━━━━━━━━━━━━\u001b[0m\u001b[37m\u001b[0m \u001b[1m2s\u001b[0m 3ms/step - RootMeanSquaredError: 0.4548 - loss: 0.2070 - val_RootMeanSquaredError: 0.5312 - val_loss: 0.2822\n",
            "Epoch 20/20\n",
            "\u001b[1m413/413\u001b[0m \u001b[32m━━━━━━━━━━━━━━━━━━━━\u001b[0m\u001b[37m\u001b[0m \u001b[1m1s\u001b[0m 3ms/step - RootMeanSquaredError: 0.4575 - loss: 0.2095 - val_RootMeanSquaredError: 0.5356 - val_loss: 0.2869\n"
          ]
        }
      ]
    },
    {
      "cell_type": "code",
      "source": [
        "import tensorflow as tf\n",
        "import keras_tuner as kt\n",
        "from tensorflow.keras.datasets import mnist\n",
        "\n",
        "# Load and preprocess the MNIST data\n",
        "(X_train, y_train), (X_valid, y_valid) = mnist.load_data()\n",
        "\n",
        "# Reshape the data to be (num_samples, 28, 28, 1) as the model expects\n",
        "X_train = X_train.reshape(-1, 28, 28, 1).astype(\"float32\") / 255.0\n",
        "X_valid = X_valid.reshape(-1, 28, 28, 1).astype(\"float32\") / 255.0\n",
        "\n",
        "# Define the model-building function\n",
        "def build_model(hp):\n",
        "    # Hyperparameters\n",
        "    n_hidden = hp.Int(\"n_hidden\", min_value=0, max_value=8, default=2)\n",
        "    n_neurons = hp.Int(\"n_neurons\", min_value=16, max_value=256)\n",
        "    learning_rate = hp.Float(\"learning_rate\", min_value=1e-4, max_value=1e-2, sampling=\"log\")\n",
        "    optimizer_choice = hp.Choice(\"optimizer\", values=[\"sgd\", \"adam\"])\n",
        "\n",
        "    # Define optimizer\n",
        "    if optimizer_choice == \"sgd\":\n",
        "        optimizer = tf.keras.optimizers.SGD(learning_rate=learning_rate)\n",
        "    else:\n",
        "        optimizer = tf.keras.optimizers.Adam(learning_rate=learning_rate)\n",
        "\n",
        "    # Build the model\n",
        "    model = tf.keras.Sequential()\n",
        "    model.add(tf.keras.layers.InputLayer(input_shape=(28, 28, 1)))  # Input layer with correct shape for MNIST\n",
        "    model.add(tf.keras.layers.Flatten())  # Flatten the input images to 1D vector\n",
        "    for _ in range(n_hidden):  # Hidden layers\n",
        "        model.add(tf.keras.layers.Dense(n_neurons, activation=\"relu\"))\n",
        "    model.add(tf.keras.layers.Dense(10, activation=\"softmax\"))  # Output layer\n",
        "\n",
        "    # Compile the model\n",
        "    model.compile(loss=\"sparse_categorical_crossentropy\", optimizer=optimizer, metrics=[\"accuracy\"])\n",
        "    return model\n",
        "\n",
        "# Hyperparameter tuning using RandomSearch\n",
        "random_search_tuner = kt.RandomSearch(\n",
        "    build_model,\n",
        "    objective=\"val_accuracy\",\n",
        "    max_trials=5,\n",
        "    overwrite=True,\n",
        "    directory=\"my_mnist\",\n",
        "    project_name=\"random_search\",\n",
        "    seed=42\n",
        ")\n",
        "\n",
        "# Fit the model with the RandomSearch tuner\n",
        "random_search_tuner.search(X_train, y_train, epochs=10, validation_data=(X_valid, y_valid))\n",
        "\n",
        "# Get the top 3 models from the RandomSearch\n",
        "top3_models = random_search_tuner.get_best_models(num_models=3)\n",
        "best_model = top3_models[0]\n",
        "\n",
        "# Get the best hyperparameters of the best model\n",
        "top3_params = random_search_tuner.get_best_hyperparameters(num_trials=3)\n",
        "print(top3_params[0].values)  # Best hyperparameter values\n",
        "\n",
        "# Get trial summary for the best trial\n",
        "best_trial = random_search_tuner.oracle.get_best_trials(num_trials=1)[0]\n",
        "print(best_trial.summary())\n",
        "print(best_trial.metrics.get_last_value(\"val_accuracy\"))\n",
        "\n",
        "# Training the best model on the full training data\n",
        "best_model.fit(X_train, y_train, epochs=10)\n",
        "test_loss, test_accuracy = best_model.evaluate(X_valid, y_valid)\n",
        "print(f\"Test accuracy: {test_accuracy}\")\n"
      ],
      "metadata": {
        "colab": {
          "base_uri": "https://localhost:8080/"
        },
        "id": "8yQEFMKvqhk7",
        "outputId": "ad339983-6cd6-4647-ec5c-0465fc501017"
      },
      "execution_count": 28,
      "outputs": [
        {
          "output_type": "stream",
          "name": "stdout",
          "text": [
            "Trial 5 Complete [00h 01m 11s]\n",
            "val_accuracy: 0.8476999998092651\n",
            "\n",
            "Best val_accuracy So Far: 0.9652000069618225\n",
            "Total elapsed time: 00h 06m 06s\n"
          ]
        },
        {
          "output_type": "stream",
          "name": "stderr",
          "text": [
            "/usr/local/lib/python3.10/dist-packages/keras/src/saving/saving_lib.py:576: UserWarning: Skipping variable loading for optimizer 'adam', because it has 2 variables whereas the saved optimizer has 22 variables. \n",
            "  saveable.load_own_variables(weights_store.get(inner_path))\n"
          ]
        },
        {
          "output_type": "stream",
          "name": "stdout",
          "text": [
            "{'n_hidden': 4, 'n_neurons': 74, 'learning_rate': 0.00905127409782462, 'optimizer': 'adam'}\n",
            "Trial 2 summary\n",
            "Hyperparameters:\n",
            "n_hidden: 4\n",
            "n_neurons: 74\n",
            "learning_rate: 0.00905127409782462\n",
            "optimizer: adam\n",
            "Score: 0.9652000069618225\n",
            "None\n",
            "0.9652000069618225\n",
            "Epoch 1/10\n",
            "\u001b[1m1875/1875\u001b[0m \u001b[32m━━━━━━━━━━━━━━━━━━━━\u001b[0m\u001b[37m\u001b[0m \u001b[1m9s\u001b[0m 4ms/step - accuracy: 0.9669 - loss: 0.1533\n",
            "Epoch 2/10\n",
            "\u001b[1m1875/1875\u001b[0m \u001b[32m━━━━━━━━━━━━━━━━━━━━\u001b[0m\u001b[37m\u001b[0m \u001b[1m10s\u001b[0m 4ms/step - accuracy: 0.9723 - loss: 0.1162\n",
            "Epoch 3/10\n",
            "\u001b[1m1875/1875\u001b[0m \u001b[32m━━━━━━━━━━━━━━━━━━━━\u001b[0m\u001b[37m\u001b[0m \u001b[1m7s\u001b[0m 4ms/step - accuracy: 0.9697 - loss: 0.1367\n",
            "Epoch 4/10\n",
            "\u001b[1m1875/1875\u001b[0m \u001b[32m━━━━━━━━━━━━━━━━━━━━\u001b[0m\u001b[37m\u001b[0m \u001b[1m11s\u001b[0m 4ms/step - accuracy: 0.9720 - loss: 0.1204\n",
            "Epoch 5/10\n",
            "\u001b[1m1875/1875\u001b[0m \u001b[32m━━━━━━━━━━━━━━━━━━━━\u001b[0m\u001b[37m\u001b[0m \u001b[1m6s\u001b[0m 3ms/step - accuracy: 0.9718 - loss: 0.1142\n",
            "Epoch 6/10\n",
            "\u001b[1m1875/1875\u001b[0m \u001b[32m━━━━━━━━━━━━━━━━━━━━\u001b[0m\u001b[37m\u001b[0m \u001b[1m10s\u001b[0m 3ms/step - accuracy: 0.9752 - loss: 0.1131\n",
            "Epoch 7/10\n",
            "\u001b[1m1875/1875\u001b[0m \u001b[32m━━━━━━━━━━━━━━━━━━━━\u001b[0m\u001b[37m\u001b[0m \u001b[1m12s\u001b[0m 4ms/step - accuracy: 0.9761 - loss: 0.1187\n",
            "Epoch 8/10\n",
            "\u001b[1m1875/1875\u001b[0m \u001b[32m━━━━━━━━━━━━━━━━━━━━\u001b[0m\u001b[37m\u001b[0m \u001b[1m6s\u001b[0m 3ms/step - accuracy: 0.9800 - loss: 0.0853\n",
            "Epoch 9/10\n",
            "\u001b[1m1875/1875\u001b[0m \u001b[32m━━━━━━━━━━━━━━━━━━━━\u001b[0m\u001b[37m\u001b[0m \u001b[1m11s\u001b[0m 3ms/step - accuracy: 0.9753 - loss: 0.1090\n",
            "Epoch 10/10\n",
            "\u001b[1m1875/1875\u001b[0m \u001b[32m━━━━━━━━━━━━━━━━━━━━\u001b[0m\u001b[37m\u001b[0m \u001b[1m7s\u001b[0m 4ms/step - accuracy: 0.9774 - loss: 0.1005\n",
            "\u001b[1m313/313\u001b[0m \u001b[32m━━━━━━━━━━━━━━━━━━━━\u001b[0m\u001b[37m\u001b[0m \u001b[1m1s\u001b[0m 2ms/step - accuracy: 0.9577 - loss: 0.2439\n",
            "Test accuracy: 0.9624999761581421\n"
          ]
        }
      ]
    }
  ]
}