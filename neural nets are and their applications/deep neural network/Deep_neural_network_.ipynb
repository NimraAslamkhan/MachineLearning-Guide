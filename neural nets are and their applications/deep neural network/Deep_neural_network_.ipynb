{
  "nbformat": 4,
  "nbformat_minor": 0,
  "metadata": {
    "colab": {
      "provenance": []
    },
    "kernelspec": {
      "name": "python3",
      "display_name": "Python 3"
    },
    "language_info": {
      "name": "python"
    }
  },
  "cells": [
    {
      "cell_type": "markdown",
      "source": [
        "# 1. Optimization Techniques\n",
        "Momentum"
      ],
      "metadata": {
        "id": "AG7N61ZiMhzm"
      }
    },
    {
      "cell_type": "code",
      "source": [
        "import tensorflow as tf\n",
        "\n",
        "# Optimizer with Momentum\n",
        "optimizer = tf.keras.optimizers.SGD(learning_rate=0.001, momentum=0.9)\n"
      ],
      "metadata": {
        "id": "vDiP_-_RMmDk"
      },
      "execution_count": 1,
      "outputs": []
    },
    {
      "cell_type": "markdown",
      "source": [
        "# Nesterov Momentum"
      ],
      "metadata": {
        "id": "72Tl8wBGMroU"
      }
    },
    {
      "cell_type": "code",
      "source": [
        "# Optimizer with Nesterov Momentum\n",
        "optimizer = tf.keras.optimizers.SGD(learning_rate=0.001, momentum=0.9, nesterov=True)\n"
      ],
      "metadata": {
        "id": "7-ugt9p4MpTW"
      },
      "execution_count": 2,
      "outputs": []
    },
    {
      "cell_type": "markdown",
      "source": [
        "# RMSProp"
      ],
      "metadata": {
        "id": "sYjlklMbMyUa"
      }
    },
    {
      "cell_type": "code",
      "source": [
        "# RMSProp Optimizer\n",
        "optimizer = tf.keras.optimizers.RMSprop(learning_rate=0.001, rho=0.9)\n"
      ],
      "metadata": {
        "id": "Bg4IOK9BM0Fl"
      },
      "execution_count": 3,
      "outputs": []
    },
    {
      "cell_type": "markdown",
      "source": [
        "# Adam"
      ],
      "metadata": {
        "id": "JQBAWo5iM2fO"
      }
    },
    {
      "cell_type": "code",
      "source": [
        "# Adam Optimizer\n",
        "optimizer = tf.keras.optimizers.Adam(learning_rate=0.001, beta_1=0.9, beta_2=0.999)\n"
      ],
      "metadata": {
        "id": "RJJjpq2LM9WG"
      },
      "execution_count": 4,
      "outputs": []
    },
    {
      "cell_type": "markdown",
      "source": [
        "# AdaMax"
      ],
      "metadata": {
        "id": "QICLgdJnNFWK"
      }
    },
    {
      "cell_type": "code",
      "source": [
        "# AdaMax Optimizer\n",
        "optimizer = tf.keras.optimizers.Adamax(learning_rate=0.001)\n"
      ],
      "metadata": {
        "id": "e9PdS8iFNCuD"
      },
      "execution_count": 5,
      "outputs": []
    },
    {
      "cell_type": "markdown",
      "source": [
        "# Nadam"
      ],
      "metadata": {
        "id": "XJ-DF5uJNJO6"
      }
    },
    {
      "cell_type": "code",
      "source": [
        "# Nadam Optimizer\n",
        "optimizer = tf.keras.optimizers.Nadam(learning_rate=0.001)\n"
      ],
      "metadata": {
        "id": "57jNxsQkNN2o"
      },
      "execution_count": 6,
      "outputs": []
    },
    {
      "cell_type": "markdown",
      "source": [
        "# 2. Learning Rate Scheduling Techniques\n",
        "Exponential Decay"
      ],
      "metadata": {
        "id": "YdLx6YA9NRV6"
      }
    },
    {
      "cell_type": "code",
      "source": [
        "# Exponential Decay Learning Rate Schedule\n",
        "lr_schedule = tf.keras.optimizers.schedules.ExponentialDecay(\n",
        "    initial_learning_rate=0.001,\n",
        "    decay_steps=100000,\n",
        "    decay_rate=0.96\n",
        ")\n",
        "optimizer = tf.keras.optimizers.Adam(learning_rate=lr_schedule)\n"
      ],
      "metadata": {
        "id": "Lhj8hSJbNezi"
      },
      "execution_count": 8,
      "outputs": []
    },
    {
      "cell_type": "markdown",
      "source": [
        "# Performance Scheduling with ReduceLROnPlateau"
      ],
      "metadata": {
        "id": "avmM5BmXNkyl"
      }
    },
    {
      "cell_type": "code",
      "source": [
        "# Reduce learning rate when a metric has stopped improving\n",
        "reduce_lr = tf.keras.callbacks.ReduceLROnPlateau(\n",
        "    monitor='val_loss',\n",
        "    factor=0.2,\n",
        "    patience=5,\n",
        "    min_lr=1e-5\n",
        ")\n"
      ],
      "metadata": {
        "id": "0gd9a9tANkcA"
      },
      "execution_count": 9,
      "outputs": []
    },
    {
      "cell_type": "markdown",
      "source": [
        "# Piecewise Constant Scheduling (Manual Implementation)"
      ],
      "metadata": {
        "id": "o3XMzzQkNxcK"
      }
    },
    {
      "cell_type": "code",
      "source": [
        "# Piecewise Constant Decay\n",
        "lr_schedule = tf.keras.optimizers.schedules.PiecewiseConstantDecay(\n",
        "    boundaries=[1000, 2000],\n",
        "    values=[0.001, 0.0005, 0.0001]\n",
        ")\n",
        "optimizer = tf.keras.optimizers.Adam(learning_rate=lr_schedule)\n"
      ],
      "metadata": {
        "id": "JM7DKe3jN1YI"
      },
      "execution_count": 11,
      "outputs": []
    },
    {
      "cell_type": "markdown",
      "source": [
        "# 3. Regularization Techniques\n",
        "L2 Regularization"
      ],
      "metadata": {
        "id": "4EhQRmJmN6hO"
      }
    },
    {
      "cell_type": "code",
      "source": [
        "# Model layer with L2 Regularization\n",
        "from tensorflow.keras import layers, regularizers\n",
        "\n",
        "model = tf.keras.Sequential([\n",
        "    layers.Dense(64, activation='relu', kernel_regularizer=regularizers.l2(0.01)),\n",
        "    layers.Dense(64, activation='relu', kernel_regularizer=regularizers.l2(0.01)),\n",
        "    layers.Dense(1, activation='sigmoid')\n",
        "])\n"
      ],
      "metadata": {
        "id": "ZVXJfX-0N8Yf"
      },
      "execution_count": 12,
      "outputs": []
    },
    {
      "cell_type": "markdown",
      "source": [
        "# Dropout"
      ],
      "metadata": {
        "id": "7wEI_-LJOB6i"
      }
    },
    {
      "cell_type": "code",
      "source": [
        "# Model layer with Dropout\n",
        "model = tf.keras.Sequential([\n",
        "    layers.Dense(64, activation='relu'),\n",
        "    layers.Dropout(0.2),  # Dropout layer with 20% drop probability\n",
        "    layers.Dense(64, activation='relu'),\n",
        "    layers.Dropout(0.5),  # Dropout layer with 50% drop probability\n",
        "    layers.Dense(1, activation='sigmoid')\n",
        "])\n"
      ],
      "metadata": {
        "id": "fUz7-CEKN--P"
      },
      "execution_count": 13,
      "outputs": []
    },
    {
      "cell_type": "markdown",
      "source": [
        "Enhancing Deep Neural Network with Optimization, Scheduling, and Regularization Techniques\n",
        "\n",
        "Objectives\n",
        "\n",
        "Use different optimizers (Momentum, RMSProp, Adam)\n",
        "\n",
        "Apply learning rate scheduling techniques (Exponential Decay, ReduceLROnPlateau)\n",
        "\n",
        "Implement regularization methods (L2, Dropout, MC Dropout)\n",
        "\n",
        "Use Keras for model training and evaluation"
      ],
      "metadata": {
        "id": "22-YXiqHOXAi"
      }
    },
    {
      "cell_type": "code",
      "source": [
        "import numpy as np\n",
        "import tensorflow as tf\n",
        "from tensorflow.keras import layers, regularizers, callbacks\n",
        "from sklearn.model_selection import train_test_split\n",
        "from sklearn.preprocessing import StandardScaler\n",
        "from sklearn.datasets import make_classification\n"
      ],
      "metadata": {
        "id": "6irTxUMrPbOD"
      },
      "execution_count": 16,
      "outputs": []
    },
    {
      "cell_type": "code",
      "source": [
        "# Generate synthetic data for binary classification\n",
        "X, y = make_classification(n_samples=10000, n_features=20, n_classes=2, random_state=42)\n",
        "\n",
        "# Split data into training and validation sets\n",
        "X_train, X_val, y_train, y_val = train_test_split(X, y, test_size=0.2, random_state=42)\n",
        "\n",
        "# Standardize the features\n",
        "scaler = StandardScaler()\n",
        "X_train = scaler.fit_transform(X_train)\n",
        "X_val = scaler.transform(X_val)\n"
      ],
      "metadata": {
        "id": "nCVjPWItPuWL"
      },
      "execution_count": 17,
      "outputs": []
    },
    {
      "cell_type": "markdown",
      "source": [
        " Define the Model\n",
        "\n",
        "This model uses:\n",
        "\n",
        "L2 Regularization to control model complexity\n",
        "Dropout layers to prevent overfitting\n",
        "MC Dropout during inference to get uncertainty estimates"
      ],
      "metadata": {
        "id": "4gbcyTWxP2Ok"
      }
    },
    {
      "cell_type": "code",
      "source": [
        "# Define the model with regularization and dropout\n",
        "model = tf.keras.Sequential([\n",
        "    layers.Dense(128, activation='relu', kernel_regularizer=regularizers.l2(0.01)),\n",
        "    layers.Dropout(0.3),\n",
        "    layers.Dense(64, activation='relu', kernel_regularizer=regularizers.l2(0.01)),\n",
        "    layers.Dropout(0.2),\n",
        "    layers.Dense(1, activation='sigmoid')\n",
        "])\n"
      ],
      "metadata": {
        "id": "Wnn2dnyBPy20"
      },
      "execution_count": 18,
      "outputs": []
    },
    {
      "cell_type": "markdown",
      "source": [
        "###  Choose Optimizer and Learning Rate Schedule\n",
        "We’ll use Adam optimizer with Exponential Decay for the learning rate. Additionally, we add ReduceLROnPlateau to decrease the learning rate when the validation loss plateaus."
      ],
      "metadata": {
        "id": "hdT8RsV8QBdK"
      }
    },
    {
      "cell_type": "code",
      "source": [
        "# Define learning rate schedule with Exponential Decay\n",
        "lr_schedule = tf.keras.optimizers.schedules.ExponentialDecay(\n",
        "    initial_learning_rate=0.001,\n",
        "    decay_steps=10000,\n",
        "    decay_rate=0.9\n",
        ")\n",
        "\n",
        "# Adam optimizer with learning rate schedule\n",
        "optimizer = tf.keras.optimizers.Adam(learning_rate=lr_schedule)\n",
        "\n",
        "# Compile the model\n",
        "model.compile(optimizer=optimizer, loss='binary_crossentropy', metrics=['accuracy'])\n",
        "\n",
        "# Add ReduceLROnPlateau callback\n",
        "reduce_lr = callbacks.ReduceLROnPlateau(monitor='val_loss', factor=0.2, patience=3, min_lr=1e-5)\n"
      ],
      "metadata": {
        "id": "JnkC8jBTP96-"
      },
      "execution_count": 19,
      "outputs": []
    },
    {
      "cell_type": "markdown",
      "source": [
        "# Step 5: Train the Model with Callbacks\n",
        "Use ReduceLROnPlateau and save the best model based on validation accuracy."
      ],
      "metadata": {
        "id": "ke1kZXS0QPP7"
      }
    },
    {
      "cell_type": "code",
      "source": [
        "# Remove ExponentialDecay and set a fixed learning rate, then use ReduceLROnPlateau\n",
        "fixed_learning_rate = 0.001\n",
        "optimizer = tf.keras.optimizers.Adam(learning_rate=fixed_learning_rate)\n",
        "\n",
        "# Compile the model with a fixed learning rate\n",
        "model.compile(optimizer=optimizer, loss='binary_crossentropy', metrics=['accuracy'])\n",
        "\n",
        "# Model training with ReduceLROnPlateau\n",
        "history = model.fit(\n",
        "    X_train, y_train,\n",
        "    epochs=30,\n",
        "    validation_data=(X_val, y_val),\n",
        "    callbacks=[reduce_lr],  # Use ReduceLROnPlateau here\n",
        "    batch_size=32\n",
        ")\n"
      ],
      "metadata": {
        "colab": {
          "base_uri": "https://localhost:8080/"
        },
        "id": "qALcS8a3QIk2",
        "outputId": "f881684d-767f-4de8-b4a8-a79363d360ad"
      },
      "execution_count": 21,
      "outputs": [
        {
          "output_type": "stream",
          "name": "stdout",
          "text": [
            "Epoch 1/30\n",
            "\u001b[1m250/250\u001b[0m \u001b[32m━━━━━━━━━━━━━━━━━━━━\u001b[0m\u001b[37m\u001b[0m \u001b[1m4s\u001b[0m 7ms/step - accuracy: 0.9256 - loss: 0.2715 - val_accuracy: 0.9360 - val_loss: 0.2266 - learning_rate: 0.0010\n",
            "Epoch 2/30\n",
            "\u001b[1m250/250\u001b[0m \u001b[32m━━━━━━━━━━━━━━━━━━━━\u001b[0m\u001b[37m\u001b[0m \u001b[1m1s\u001b[0m 2ms/step - accuracy: 0.9267 - loss: 0.2700 - val_accuracy: 0.9355 - val_loss: 0.2268 - learning_rate: 0.0010\n",
            "Epoch 3/30\n",
            "\u001b[1m250/250\u001b[0m \u001b[32m━━━━━━━━━━━━━━━━━━━━\u001b[0m\u001b[37m\u001b[0m \u001b[1m1s\u001b[0m 2ms/step - accuracy: 0.9243 - loss: 0.2689 - val_accuracy: 0.9370 - val_loss: 0.2268 - learning_rate: 0.0010\n",
            "Epoch 4/30\n",
            "\u001b[1m250/250\u001b[0m \u001b[32m━━━━━━━━━━━━━━━━━━━━\u001b[0m\u001b[37m\u001b[0m \u001b[1m1s\u001b[0m 2ms/step - accuracy: 0.9306 - loss: 0.2682 - val_accuracy: 0.9370 - val_loss: 0.2234 - learning_rate: 0.0010\n",
            "Epoch 5/30\n",
            "\u001b[1m250/250\u001b[0m \u001b[32m━━━━━━━━━━━━━━━━━━━━\u001b[0m\u001b[37m\u001b[0m \u001b[1m1s\u001b[0m 2ms/step - accuracy: 0.9260 - loss: 0.2663 - val_accuracy: 0.9375 - val_loss: 0.2298 - learning_rate: 0.0010\n",
            "Epoch 6/30\n",
            "\u001b[1m250/250\u001b[0m \u001b[32m━━━━━━━━━━━━━━━━━━━━\u001b[0m\u001b[37m\u001b[0m \u001b[1m1s\u001b[0m 2ms/step - accuracy: 0.9280 - loss: 0.2631 - val_accuracy: 0.9340 - val_loss: 0.2288 - learning_rate: 0.0010\n",
            "Epoch 7/30\n",
            "\u001b[1m250/250\u001b[0m \u001b[32m━━━━━━━━━━━━━━━━━━━━\u001b[0m\u001b[37m\u001b[0m \u001b[1m1s\u001b[0m 2ms/step - accuracy: 0.9326 - loss: 0.2593 - val_accuracy: 0.9360 - val_loss: 0.2272 - learning_rate: 0.0010\n",
            "Epoch 8/30\n",
            "\u001b[1m250/250\u001b[0m \u001b[32m━━━━━━━━━━━━━━━━━━━━\u001b[0m\u001b[37m\u001b[0m \u001b[1m1s\u001b[0m 2ms/step - accuracy: 0.9299 - loss: 0.2552 - val_accuracy: 0.9380 - val_loss: 0.2196 - learning_rate: 2.0000e-04\n",
            "Epoch 9/30\n",
            "\u001b[1m250/250\u001b[0m \u001b[32m━━━━━━━━━━━━━━━━━━━━\u001b[0m\u001b[37m\u001b[0m \u001b[1m1s\u001b[0m 3ms/step - accuracy: 0.9374 - loss: 0.2422 - val_accuracy: 0.9380 - val_loss: 0.2186 - learning_rate: 2.0000e-04\n",
            "Epoch 10/30\n",
            "\u001b[1m250/250\u001b[0m \u001b[32m━━━━━━━━━━━━━━━━━━━━\u001b[0m\u001b[37m\u001b[0m \u001b[1m1s\u001b[0m 2ms/step - accuracy: 0.9317 - loss: 0.2532 - val_accuracy: 0.9375 - val_loss: 0.2176 - learning_rate: 2.0000e-04\n",
            "Epoch 11/30\n",
            "\u001b[1m250/250\u001b[0m \u001b[32m━━━━━━━━━━━━━━━━━━━━\u001b[0m\u001b[37m\u001b[0m \u001b[1m1s\u001b[0m 2ms/step - accuracy: 0.9358 - loss: 0.2494 - val_accuracy: 0.9385 - val_loss: 0.2161 - learning_rate: 2.0000e-04\n",
            "Epoch 12/30\n",
            "\u001b[1m250/250\u001b[0m \u001b[32m━━━━━━━━━━━━━━━━━━━━\u001b[0m\u001b[37m\u001b[0m \u001b[1m1s\u001b[0m 2ms/step - accuracy: 0.9330 - loss: 0.2483 - val_accuracy: 0.9400 - val_loss: 0.2148 - learning_rate: 2.0000e-04\n",
            "Epoch 13/30\n",
            "\u001b[1m250/250\u001b[0m \u001b[32m━━━━━━━━━━━━━━━━━━━━\u001b[0m\u001b[37m\u001b[0m \u001b[1m1s\u001b[0m 3ms/step - accuracy: 0.9292 - loss: 0.2560 - val_accuracy: 0.9380 - val_loss: 0.2156 - learning_rate: 2.0000e-04\n",
            "Epoch 14/30\n",
            "\u001b[1m250/250\u001b[0m \u001b[32m━━━━━━━━━━━━━━━━━━━━\u001b[0m\u001b[37m\u001b[0m \u001b[1m1s\u001b[0m 2ms/step - accuracy: 0.9352 - loss: 0.2484 - val_accuracy: 0.9390 - val_loss: 0.2163 - learning_rate: 2.0000e-04\n",
            "Epoch 15/30\n",
            "\u001b[1m250/250\u001b[0m \u001b[32m━━━━━━━━━━━━━━━━━━━━\u001b[0m\u001b[37m\u001b[0m \u001b[1m1s\u001b[0m 3ms/step - accuracy: 0.9336 - loss: 0.2519 - val_accuracy: 0.9390 - val_loss: 0.2159 - learning_rate: 2.0000e-04\n",
            "Epoch 16/30\n",
            "\u001b[1m250/250\u001b[0m \u001b[32m━━━━━━━━━━━━━━━━━━━━\u001b[0m\u001b[37m\u001b[0m \u001b[1m1s\u001b[0m 4ms/step - accuracy: 0.9343 - loss: 0.2359 - val_accuracy: 0.9380 - val_loss: 0.2148 - learning_rate: 4.0000e-05\n",
            "Epoch 17/30\n",
            "\u001b[1m250/250\u001b[0m \u001b[32m━━━━━━━━━━━━━━━━━━━━\u001b[0m\u001b[37m\u001b[0m \u001b[1m1s\u001b[0m 3ms/step - accuracy: 0.9297 - loss: 0.2528 - val_accuracy: 0.9385 - val_loss: 0.2144 - learning_rate: 4.0000e-05\n",
            "Epoch 18/30\n",
            "\u001b[1m250/250\u001b[0m \u001b[32m━━━━━━━━━━━━━━━━━━━━\u001b[0m\u001b[37m\u001b[0m \u001b[1m1s\u001b[0m 2ms/step - accuracy: 0.9305 - loss: 0.2531 - val_accuracy: 0.9390 - val_loss: 0.2146 - learning_rate: 4.0000e-05\n",
            "Epoch 19/30\n",
            "\u001b[1m250/250\u001b[0m \u001b[32m━━━━━━━━━━━━━━━━━━━━\u001b[0m\u001b[37m\u001b[0m \u001b[1m1s\u001b[0m 3ms/step - accuracy: 0.9339 - loss: 0.2403 - val_accuracy: 0.9390 - val_loss: 0.2147 - learning_rate: 4.0000e-05\n",
            "Epoch 20/30\n",
            "\u001b[1m250/250\u001b[0m \u001b[32m━━━━━━━━━━━━━━━━━━━━\u001b[0m\u001b[37m\u001b[0m \u001b[1m1s\u001b[0m 2ms/step - accuracy: 0.9353 - loss: 0.2392 - val_accuracy: 0.9385 - val_loss: 0.2146 - learning_rate: 4.0000e-05\n",
            "Epoch 21/30\n",
            "\u001b[1m250/250\u001b[0m \u001b[32m━━━━━━━━━━━━━━━━━━━━\u001b[0m\u001b[37m\u001b[0m \u001b[1m1s\u001b[0m 2ms/step - accuracy: 0.9300 - loss: 0.2483 - val_accuracy: 0.9385 - val_loss: 0.2145 - learning_rate: 1.0000e-05\n",
            "Epoch 22/30\n",
            "\u001b[1m250/250\u001b[0m \u001b[32m━━━━━━━━━━━━━━━━━━━━\u001b[0m\u001b[37m\u001b[0m \u001b[1m1s\u001b[0m 2ms/step - accuracy: 0.9333 - loss: 0.2478 - val_accuracy: 0.9390 - val_loss: 0.2145 - learning_rate: 1.0000e-05\n",
            "Epoch 23/30\n",
            "\u001b[1m250/250\u001b[0m \u001b[32m━━━━━━━━━━━━━━━━━━━━\u001b[0m\u001b[37m\u001b[0m \u001b[1m1s\u001b[0m 2ms/step - accuracy: 0.9342 - loss: 0.2411 - val_accuracy: 0.9390 - val_loss: 0.2144 - learning_rate: 1.0000e-05\n",
            "Epoch 24/30\n",
            "\u001b[1m250/250\u001b[0m \u001b[32m━━━━━━━━━━━━━━━━━━━━\u001b[0m\u001b[37m\u001b[0m \u001b[1m1s\u001b[0m 2ms/step - accuracy: 0.9342 - loss: 0.2421 - val_accuracy: 0.9390 - val_loss: 0.2144 - learning_rate: 1.0000e-05\n",
            "Epoch 25/30\n",
            "\u001b[1m250/250\u001b[0m \u001b[32m━━━━━━━━━━━━━━━━━━━━\u001b[0m\u001b[37m\u001b[0m \u001b[1m1s\u001b[0m 2ms/step - accuracy: 0.9345 - loss: 0.2447 - val_accuracy: 0.9390 - val_loss: 0.2144 - learning_rate: 1.0000e-05\n",
            "Epoch 26/30\n",
            "\u001b[1m250/250\u001b[0m \u001b[32m━━━━━━━━━━━━━━━━━━━━\u001b[0m\u001b[37m\u001b[0m \u001b[1m1s\u001b[0m 2ms/step - accuracy: 0.9322 - loss: 0.2478 - val_accuracy: 0.9395 - val_loss: 0.2144 - learning_rate: 1.0000e-05\n",
            "Epoch 27/30\n",
            "\u001b[1m250/250\u001b[0m \u001b[32m━━━━━━━━━━━━━━━━━━━━\u001b[0m\u001b[37m\u001b[0m \u001b[1m1s\u001b[0m 2ms/step - accuracy: 0.9297 - loss: 0.2537 - val_accuracy: 0.9390 - val_loss: 0.2145 - learning_rate: 1.0000e-05\n",
            "Epoch 28/30\n",
            "\u001b[1m250/250\u001b[0m \u001b[32m━━━━━━━━━━━━━━━━━━━━\u001b[0m\u001b[37m\u001b[0m \u001b[1m1s\u001b[0m 2ms/step - accuracy: 0.9340 - loss: 0.2353 - val_accuracy: 0.9390 - val_loss: 0.2144 - learning_rate: 1.0000e-05\n",
            "Epoch 29/30\n",
            "\u001b[1m250/250\u001b[0m \u001b[32m━━━━━━━━━━━━━━━━━━━━\u001b[0m\u001b[37m\u001b[0m \u001b[1m1s\u001b[0m 2ms/step - accuracy: 0.9318 - loss: 0.2490 - val_accuracy: 0.9390 - val_loss: 0.2145 - learning_rate: 1.0000e-05\n",
            "Epoch 30/30\n",
            "\u001b[1m250/250\u001b[0m \u001b[32m━━━━━━━━━━━━━━━━━━━━\u001b[0m\u001b[37m\u001b[0m \u001b[1m1s\u001b[0m 3ms/step - accuracy: 0.9329 - loss: 0.2442 - val_accuracy: 0.9395 - val_loss: 0.2144 - learning_rate: 1.0000e-05\n"
          ]
        }
      ]
    },
    {
      "cell_type": "markdown",
      "source": [
        "## Evaluate the Model Performance\n",
        "After training, evaluate the model on the validation set."
      ],
      "metadata": {
        "id": "hGAHvt82Q3ly"
      }
    },
    {
      "cell_type": "code",
      "source": [
        "# Evaluate the model\n",
        "val_loss, val_accuracy = model.evaluate(X_val, y_val)\n",
        "print(f\"Validation Loss: {val_loss}\")\n",
        "print(f\"Validation Accuracy: {val_accuracy}\")\n"
      ],
      "metadata": {
        "colab": {
          "base_uri": "https://localhost:8080/"
        },
        "id": "c3CpTDzpQ9jk",
        "outputId": "867d1dfc-1c63-44d8-b599-81de2c7239e6"
      },
      "execution_count": 22,
      "outputs": [
        {
          "output_type": "stream",
          "name": "stdout",
          "text": [
            "\u001b[1m63/63\u001b[0m \u001b[32m━━━━━━━━━━━━━━━━━━━━\u001b[0m\u001b[37m\u001b[0m \u001b[1m0s\u001b[0m 2ms/step - accuracy: 0.9380 - loss: 0.2205\n",
            "Validation Loss: 0.21437248587608337\n",
            "Validation Accuracy: 0.9394999742507935\n"
          ]
        }
      ]
    },
    {
      "cell_type": "markdown",
      "source": [
        "## Make Predictions with MC Dropout\n",
        "\n",
        "For uncertainty estimation, use MC Dropout during prediction by enabling dropout layers during inference."
      ],
      "metadata": {
        "id": "KcERR3oPRBXg"
      }
    },
    {
      "cell_type": "code",
      "source": [
        "# Monte Carlo Dropout - Multiple stochastic predictions\n",
        "def mc_dropout_prediction(model, X, num_samples=100):\n",
        "    y_probas = np.stack([model(X, training=True) for _ in range(num_samples)])\n",
        "    y_mean = y_probas.mean(axis=0)    # Mean prediction\n",
        "    y_std = y_probas.std(axis=0)      # Standard deviation as uncertainty measure\n",
        "    return y_mean, y_std\n",
        "\n",
        "# Predictions and uncertainty estimation on validation set\n",
        "y_pred_mean, y_pred_std = mc_dropout_prediction(model, X_val)\n",
        "print(\"Predicted probabilities (mean):\", y_pred_mean)\n",
        "print(\"Prediction uncertainty (std):\", y_pred_std)\n"
      ],
      "metadata": {
        "colab": {
          "base_uri": "https://localhost:8080/"
        },
        "id": "gP1PcGokRFc9",
        "outputId": "6498505f-f42f-4617-dd2e-fd7c805da03d"
      },
      "execution_count": 23,
      "outputs": [
        {
          "output_type": "stream",
          "name": "stdout",
          "text": [
            "Predicted probabilities (mean): [[0.9101207 ]\n",
            " [0.95490533]\n",
            " [0.97991145]\n",
            " ...\n",
            " [0.42193615]\n",
            " [0.05355585]\n",
            " [0.05839673]]\n",
            "Prediction uncertainty (std): [[0.02850946]\n",
            " [0.02826841]\n",
            " [0.01033684]\n",
            " ...\n",
            " [0.09136605]\n",
            " [0.01897622]\n",
            " [0.01662727]]\n"
          ]
        }
      ]
    },
    {
      "cell_type": "markdown",
      "source": [
        "# Visualize Training Performance\n",
        "Plot the model’s learning curve to observe training and validation loss."
      ],
      "metadata": {
        "id": "aiPSfaG8RKtG"
      }
    },
    {
      "cell_type": "code",
      "source": [
        "import matplotlib.pyplot as plt\n",
        "\n",
        "# Plot training & validation loss values\n",
        "plt.plot(history.history['loss'], label='Train Loss')\n",
        "plt.plot(history.history['val_loss'], label='Validation Loss')\n",
        "plt.title('Model Loss')\n",
        "plt.xlabel('Epoch')\n",
        "plt.ylabel('Loss')\n",
        "plt.legend()\n",
        "plt.show()\n"
      ],
      "metadata": {
        "colab": {
          "base_uri": "https://localhost:8080/",
          "height": 472
        },
        "id": "2UO-4u9aRMkT",
        "outputId": "e939479d-7e1b-4616-e198-78b3202e456c"
      },
      "execution_count": 24,
      "outputs": [
        {
          "output_type": "display_data",
          "data": {
            "text/plain": [
              "<Figure size 640x480 with 1 Axes>"
            ],
            "image/png": "[encoded data removed]"
          },
          "metadata": {}
        }
      ]
    }
  ]
}