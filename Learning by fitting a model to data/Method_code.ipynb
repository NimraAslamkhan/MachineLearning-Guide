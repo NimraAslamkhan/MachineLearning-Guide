{
  "nbformat": 4,
  "nbformat_minor": 0,
  "metadata": {
    "colab": {
      "provenance": []
    },
    "kernelspec": {
      "name": "python3",
      "display_name": "Python 3"
    },
    "language_info": {
      "name": "python"
    }
  },
  "cells": [
    {
      "cell_type": "markdown",
      "source": [
        "#1: Multilabel Classification\n",
        "\n",
        "Description: Multilabel classification involves assigning multiple labels to each instance. We can use KNeighborsClassifier for this task."
      ],
      "metadata": {
        "id": "axKGB9LSUwd8"
      }
    },
    {
      "cell_type": "code",
      "source": [
        "from sklearn.neighbors import KNeighborsClassifier\n",
        "from sklearn.datasets import make_multilabel_classification\n",
        "\n",
        "# Generate a multilabel dataset\n",
        "X, y = make_multilabel_classification(n_samples=100, n_features=5, n_classes=3, n_labels=2, random_state=42)\n",
        "\n",
        "# Use KNeighborsClassifier for multilabel classification\n",
        "knn = KNeighborsClassifier()\n",
        "knn.fit(X, y)\n",
        "\n",
        "# Predictions\n",
        "y_pred = knn.predict(X)\n"
      ],
      "metadata": {
        "id": "jO_ZnWj-U23b"
      },
      "execution_count": 1,
      "outputs": []
    },
    {
      "cell_type": "markdown",
      "source": [
        "# 2: Support Vector Machines (SVM)\n",
        "\n",
        "Description: Support Vector Machines are useful for both binary and multiclass classification. We can use OneVsRestClassifier for multiclass tasks."
      ],
      "metadata": {
        "id": "IoVupHleU10-"
      }
    },
    {
      "cell_type": "code",
      "source": [
        "from sklearn.svm import SVC\n",
        "from sklearn.multiclass import OneVsRestClassifier\n",
        "\n",
        "# Create an SVM model\n",
        "svm = SVC(kernel='linear')\n",
        "\n",
        "# Use OneVsRestClassifier for multiclass classification\n",
        "model = OneVsRestClassifier(svm)\n",
        "model.fit(X_train, y_train)\n",
        "\n",
        "# Predict and evaluate\n",
        "y_pred = model.predict(X_test)"
      ],
      "metadata": {
        "id": "45QwVtbGZ6s_"
      },
      "execution_count": null,
      "outputs": []
    },
    {
      "cell_type": "markdown",
      "source": [
        "\n",
        "\n",
        "---\n",
        "\n"
      ],
      "metadata": {
        "id": "c2blOXZFVGMP"
      }
    },
    {
      "cell_type": "markdown",
      "source": [
        "#  3: Stochastic Gradient Descent (SGD) Classifier\n",
        "\n",
        "Description: The SGDClassifier is effective for large-scale data, allowing efficient model training with various regularization techniques."
      ],
      "metadata": {
        "id": "HRj3a8cEVLm3"
      }
    },
    {
      "cell_type": "code",
      "source": [
        "from sklearn.linear_model import SGDClassifier\n",
        "\n",
        "# Train SGD Classifier\n",
        "sgd = SGDClassifier(max_iter=1000, tol=1e-3)\n",
        "sgd.fit(X_train, y_train)\n",
        "\n",
        "# Predict and evaluate\n",
        "y_pred = sgd.predict(X_test)\n"
      ],
      "metadata": {
        "id": "Fv3V0Ub8VP4q"
      },
      "execution_count": null,
      "outputs": []
    },
    {
      "cell_type": "markdown",
      "source": [
        "#  4: Standardization and Preprocessing\n",
        "\n",
        "Description: Preprocessing like feature scaling can significantly improve the performance of many machine learning models."
      ],
      "metadata": {
        "id": "-Qbm42YFVSLv"
      }
    },
    {
      "cell_type": "code",
      "source": [
        "from sklearn.preprocessing import StandardScaler\n",
        "\n",
        "# Apply feature scaling using StandardScaler\n",
        "scaler = StandardScaler()\n",
        "X_scaled = scaler.fit_transform(X)\n",
        "\n",
        "# Continue with model training...\n"
      ],
      "metadata": {
        "id": "vPMLNsJXVXYO"
      },
      "execution_count": null,
      "outputs": []
    },
    {
      "cell_type": "markdown",
      "source": [
        "#  5: Cross-Validation Techniques\n",
        "\n",
        "Description: Cross-validation ensures that the model is evaluated more robustly. The cross_val_score function splits data into multiple folds."
      ],
      "metadata": {
        "id": "AmRGbvWIVZDV"
      }
    },
    {
      "cell_type": "code",
      "source": [
        "from sklearn.model_selection import cross_val_score\n",
        "\n",
        "# Apply cross-validation\n",
        "scores = cross_val_score(model, X_train, y_train, cv=5)\n",
        "\n",
        "# Print average cross-validation score\n",
        "print(f\"Average Cross-Validation Score: {scores.mean()}\")\n"
      ],
      "metadata": {
        "id": "DZYmz3TsVdh2"
      },
      "execution_count": null,
      "outputs": []
    },
    {
      "cell_type": "markdown",
      "source": [
        "#  6: Error Analysis and Debugging\n",
        "\n",
        "Description: Identifying false positives and false negatives is essential for improving model performance."
      ],
      "metadata": {
        "id": "UV09VyU2VfDe"
      }
    },
    {
      "cell_type": "code",
      "source": [
        "# Confusion matrix for error analysis\n",
        "from sklearn.metrics import confusion_matrix\n",
        "\n",
        "conf_matrix = confusion_matrix(y_test, y_pred)\n",
        "print(\"Confusion Matrix:\")\n",
        "print(conf_matrix)\n"
      ],
      "metadata": {
        "id": "cg3cl1S1ViyF"
      },
      "execution_count": null,
      "outputs": []
    },
    {
      "cell_type": "markdown",
      "source": [
        "# 7: Multiclass Metrics\n",
        "\n",
        "Description: Evaluating multiclass models requires metrics like F1-score, precision, recall, etc"
      ],
      "metadata": {
        "id": "5xh5RgeCVks3"
      }
    },
    {
      "cell_type": "code",
      "source": [
        "from sklearn.metrics import classification_report\n",
        "\n",
        "# Generate classification report for multiclass classification\n",
        "print(classification_report(y_test, y_pred))\n"
      ],
      "metadata": {
        "id": "-lpAkmMTV1MK"
      },
      "execution_count": null,
      "outputs": []
    },
    {
      "cell_type": "markdown",
      "source": [
        "# 8  Chain Classifiers\n",
        "\n",
        "Description: ClassifierChain is useful in multilabel classification where previous predictions influence future ones"
      ],
      "metadata": {
        "id": "xoLYK493V9-w"
      }
    },
    {
      "cell_type": "code",
      "source": [
        "from sklearn.multioutput import ClassifierChain\n",
        "from sklearn.linear_model import LogisticRegression\n",
        "\n",
        "# Create and fit a classifier chain\n",
        "chain = ClassifierChain(LogisticRegression())\n",
        "chain.fit(X_train, y_train)\n"
      ],
      "metadata": {
        "id": "O0vvLXPxWCJB"
      },
      "execution_count": null,
      "outputs": []
    },
    {
      "cell_type": "markdown",
      "source": [
        "# 9 : Multioutput Classification\n",
        "\n",
        "Description: Multioutput classification deals with tasks where each output label can have multiple classes."
      ],
      "metadata": {
        "id": "aRvwqoOdWDAQ"
      }
    },
    {
      "cell_type": "code",
      "source": [
        "from sklearn.multioutput import MultiOutputClassifier\n",
        "\n",
        "# Multioutput classifier\n",
        "multi_output_clf = MultiOutputClassifier(SGDClassifier())\n",
        "multi_output_clf.fit(X_train, y_train)\n"
      ],
      "metadata": {
        "id": "-FR-EhrNWHOj"
      },
      "execution_count": null,
      "outputs": []
    },
    {
      "cell_type": "markdown",
      "source": [
        "#  10: Data Manipulation and Noise Addition\n",
        "\n",
        "Description: Adding noise to datasets helps simulate real-world scenarios for training robust classifiers."
      ],
      "metadata": {
        "id": "ZP3WKjHWWJRu"
      }
    },
    {
      "cell_type": "code",
      "source": [
        "import numpy as np\n",
        "\n",
        "# Add noise to the dataset\n",
        "noise = np.random.normal(0, 0.1, X.shape)\n",
        "X_noisy = X + noise\n"
      ],
      "metadata": {
        "id": "y5sWlw1kWI5X"
      },
      "execution_count": null,
      "outputs": []
    },
    {
      "cell_type": "markdown",
      "source": [
        "#  11: Image Processing\n",
        "\n",
        "Description: Use classification models for cleaning noisy images or segmenting them for better visualization."
      ],
      "metadata": {
        "id": "Td30d7GnWPbR"
      }
    },
    {
      "cell_type": "code",
      "source": [
        "import matplotlib.pyplot as plt\n",
        "\n",
        "# Visualizing an image\n",
        "plt.imshow(X[0].reshape(28, 28), cmap='gray')\n",
        "plt.show()\n"
      ],
      "metadata": {
        "id": "p0kqDc82WPIv"
      },
      "execution_count": null,
      "outputs": []
    },
    {
      "cell_type": "markdown",
      "source": [
        "# 12 : K-Nearest Neighbors (KNN)\n",
        "Description: KNN can be used for classification and even image denoising tasks by averaging neighboring pixel values"
      ],
      "metadata": {
        "id": "0PGK0cy8WVXt"
      }
    },
    {
      "cell_type": "code",
      "source": [
        "from sklearn.neighbors import KNeighborsClassifier\n",
        "\n",
        "# Train KNN classifier\n",
        "knn = KNeighborsClassifier(n_neighbors=3)\n",
        "knn.fit(X_train, y_train)\n",
        "\n",
        "# Predict\n",
        "y_pred = knn.predict(X_test)\n"
      ],
      "metadata": {
        "id": "rCeuvSvoWVEY"
      },
      "execution_count": null,
      "outputs": []
    }
  ]
}